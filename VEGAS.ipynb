{
 "cells": [
  {
   "cell_type": "code",
   "execution_count": 2,
   "id": "ea02d026",
   "metadata": {},
   "outputs": [],
   "source": [
    "import vegas\n",
    "import numpy as np\n",
    "import matplotlib.pyplot as plt\n",
    "from scipy.integrate import nquad\n",
    "from tqdm import tqdm\n",
    "import time\n",
    "from scipy.stats import unitary_group\n",
    "from scipy.special import gamma\n",
    "import pandas as pd"
   ]
  },
  {
   "cell_type": "code",
   "execution_count": 87,
   "id": "15cc70a4",
   "metadata": {},
   "outputs": [
    {
     "data": {
      "text/plain": [
       "array([[-0.18231351+0.02052899j, -0.03737894-0.57623133j],\n",
       "       [ 0.01421833-0.21918879j, -0.18231351-0.02052899j]])"
      ]
     },
     "execution_count": 87,
     "metadata": {},
     "output_type": "execute_result"
    }
   ],
   "source": [
    "def Phi2(x):\n",
    "    alpha, beta = x\n",
    "    return np.array([[alpha, -np.conj(beta)],[beta,np.conj(alpha)]])\n",
    "\n",
    "def inj(U,N):\n",
    "    arr = np.zeros((N+1,N+1))\n",
    "    arr[:N,:N] = U\n",
    "    return arr\n",
    "\n",
    "def r(N,j,k,alpha,phi):\n",
    "    if k == N - 1:\n",
    "        if j < N - 1:\n",
    "            return np.exp(1j*alpha[j]) * np.sin(phi[j]) * np.prod(np.cos(phi)[:j-1])\n",
    "        elif j == N - 1:\n",
    "            return np.exp(1j*alpha[N-1]) * np.prod(np.cos(phi)[:N-1])\n",
    "    elif k == N - 2:\n",
    "        if j < N - 2:\n",
    "            return 0\n",
    "        elif j == N - 2:\n",
    "            weird = np.sum(alpha[:j-1]) + np.sum(alpha[j:])\n",
    "            return np.exp(-1j*weird) * np.cos(phi[N-2])\n",
    "        elif j == N - 1:\n",
    "            weird = np.sum(alpha[:j-1]) + np.sum(alpha[j:])\n",
    "            return - np.exp(-1j*weird) * np.sin(phi[N-2])\n",
    "    else:\n",
    "        if j < k and k < N - 2:\n",
    "            return 0\n",
    "        elif j == k and k < N - 2:\n",
    "            return np.exp(1j*alpha[k]) * np.cos(phi[k])\n",
    "        elif k < j and j <= N - 2:\n",
    "            return - np.exp(1j*alpha[j]) * np.sin(phi[k]) * np.sin(phi[j]) * np.prod(np.cos(phi)[k:j-1])\n",
    "        elif k < N - 2 and j == N - 1:\n",
    "            return - np.exp(1j*alpha[N-1]) * np.sin(phi[k]) * np.prod(np.cos(phi)[k:N-1])\n",
    "        \n",
    "def R(N,alpha,phi):\n",
    "    Rn = np.zeros((N,N),dtype=complex)\n",
    "    for i in range(N):\n",
    "        for j in range(N):\n",
    "            Rn[i,j] = r(N,j,i,alpha,phi)\n",
    "    if np.linalg.det(Rn) < 0:\n",
    "        Rn[:,0] = - Rn[:,0]\n",
    "    return Rn\n",
    "\n",
    "n =2\n",
    "\n",
    "alpha = np.random.uniform(low=0,high=2*np.pi,size=n)\n",
    "phi = np.random.uniform(low=0,high=np.pi/2,size=n)\n",
    "#r(3,1,2,alpha,phi)\n",
    "\n",
    "arr = R(n,alpha,phi)\n",
    "#np.linalg.det(arr)\n",
    "arr.dot(np.conj(arr))"
   ]
  },
  {
   "cell_type": "code",
   "execution_count": 22,
   "id": "8ffa520e",
   "metadata": {},
   "outputs": [
    {
     "name": "stderr",
     "output_type": "stream",
     "text": [
      "/Users/lecardin/miniconda3/lib/python3.10/site-packages/matplotlib/cbook/__init__.py:1335: ComplexWarning: Casting complex values to real discards the imaginary part\n",
      "  return np.asarray(x, float)\n"
     ]
    },
    {
     "data": {
      "text/plain": [
       "[<matplotlib.lines.Line2D at 0x7f991cd6ee30>]"
      ]
     },
     "execution_count": 22,
     "metadata": {},
     "output_type": "execute_result"
    },
    {
     "data": {
      "image/png": "[encoded data removed]",
      "text/plain": [
       "<Figure size 640x480 with 1 Axes>"
      ]
     },
     "metadata": {},
     "output_type": "display_data"
    }
   ],
   "source": [
    "betas = np.linspace(0,10,100)\n",
    "\n",
    "df = pd.read_csv('characters_U1.csv')\n",
    "arr = np.array(df,dtype=complex)\n",
    "plt.plot(betas[1::][:5],arr[:5])\n",
    "plt.plot(betas[1::][:5],2*100*betas[1::][:5])"
   ]
  },
  {
   "cell_type": "code",
   "execution_count": null,
   "id": "9ff61dd7",
   "metadata": {},
   "outputs": [],
   "source": [
    "def Phi(x,N):\n",
    "    alpha = x[:N]\n",
    "    phi = x[N:2*N]\n",
    "    Rn = np.zeros((N,N))\n",
    "    Rn[:,:] = r[:,:,alpha,phi,N]\n",
    "    if np.linalg.det(Rn) < 0:\n",
    "        Rn[:,0] = - Rn[:,0]\n",
    "    if N == 2:\n",
    "        return Phi2(Rn)\n",
    "    arr = np.zeros(len(x) - 2*N)\n",
    "    arr = x[2*N:]\n",
    "    return Rn.dot(j(Phi(arr,N-1)))"
   ]
  }
 ],
 "metadata": {
  "kernelspec": {
   "display_name": "Python 3 (ipykernel)",
   "language": "python",
   "name": "python3"
  },
  "language_info": {
   "codemirror_mode": {
    "name": "ipython",
    "version": 3
   },
   "file_extension": ".py",
   "mimetype": "text/x-python",
   "name": "python",
   "nbconvert_exporter": "python",
   "pygments_lexer": "ipython3",
   "version": "3.10.11"
  }
 },
 "nbformat": 4,
 "nbformat_minor": 5
}
