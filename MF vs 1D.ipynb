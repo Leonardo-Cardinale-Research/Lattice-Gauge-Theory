{
 "cells": [
  {
   "cell_type": "code",
   "execution_count": 1,
   "id": "bf8141c4",
   "metadata": {},
   "outputs": [],
   "source": [
    "import numpy as np\n",
    "import matplotlib.pyplot as plt\n",
    "from scipy.integrate import nquad, quad\n",
    "import time\n",
    "import multiprocessing\n",
    "from joblib import Parallel, delayed\n",
    "from tqdm import tqdm\n",
    "import pandas as pd\n",
    "from scipy.special import iv"
   ]
  },
  {
   "cell_type": "code",
   "execution_count": 32,
   "id": "533afe14",
   "metadata": {},
   "outputs": [
    {
     "name": "stderr",
     "output_type": "stream",
     "text": [
      "\n",
      "\n",
      "\n",
      "\n",
      "\n",
      " 95%|███████████████████████████████████████▉  | 95/100 [22:35<01:11, 14.27s/it]\u001b[A\u001b[A\u001b[A\u001b[A\u001b[A\n",
      " 79%|█████████████████████████████████▏        | 79/100 [22:14<05:54, 16.89s/it]\n",
      " 63%|██████████████████████████▍               | 63/100 [21:51<12:49, 20.81s/it]\n",
      " 63%|██████████████████████████▍               | 63/100 [20:11<11:51, 19.22s/it]\n",
      "\n",
      "\n",
      "\n",
      "\n",
      "\n",
      " 16%|██████▋                                   | 16/100 [00:00<00:01, 48.89it/s]\u001b[A\u001b[A\u001b[A\u001b[A\u001b[A/Users/leonardocardinale/opt/miniconda3/lib/python3.9/site-packages/numpy/linalg/linalg.py:2139: RuntimeWarning: overflow encountered in det\n",
      "  r = _umath_linalg.det(a, signature=signature)\n",
      "/Users/leonardocardinale/opt/miniconda3/lib/python3.9/site-packages/numpy/linalg/linalg.py:2139: RuntimeWarning: invalid value encountered in det\n",
      "  r = _umath_linalg.det(a, signature=signature)\n",
      "/var/folders/h7/_hqqwrk517z46v06lptyq1580000gn/T/ipykernel_79630/1323120554.py:24: RuntimeWarning: invalid value encountered in scalar add\n",
      "/Users/leonardocardinale/opt/miniconda3/lib/python3.9/site-packages/numpy/linalg/linalg.py:2139: RuntimeWarning: overflow encountered in det\n",
      "  r = _umath_linalg.det(a, signature=signature)\n",
      "/Users/leonardocardinale/opt/miniconda3/lib/python3.9/site-packages/numpy/linalg/linalg.py:2139: RuntimeWarning: invalid value encountered in det\n",
      "  r = _umath_linalg.det(a, signature=signature)\n",
      "\n",
      "\n",
      "\n",
      "\n",
      "\n",
      " 32%|█████████████▍                            | 32/100 [00:01<00:03, 17.21it/s]\u001b[A\u001b[A\u001b[A\u001b[A\u001b[A\n",
      "\n",
      "\n",
      "\n",
      "\n",
      " 48%|████████████████████▏                     | 48/100 [00:02<00:03, 16.13it/s]\u001b[A\u001b[A\u001b[A\u001b[A\u001b[A\n",
      "\n",
      "\n",
      "\n",
      "\n",
      " 64%|██████████████████████████▉               | 64/100 [00:03<00:02, 15.81it/s]\u001b[A\u001b[A\u001b[A\u001b[A\u001b[A\n",
      "\n",
      "\n",
      "\n",
      "\n",
      " 80%|█████████████████████████████████▌        | 80/100 [00:04<00:01, 15.80it/s]\u001b[A\u001b[A\u001b[A\u001b[A\u001b[A\n",
      "\n",
      "\n",
      "\n",
      "\n",
      "100%|█████████████████████████████████████████| 100/100 [00:05<00:00, 16.93it/s]\u001b[A\u001b[A\u001b[A\u001b[A\u001b[A\n",
      "100%|█████████████████████████████████████████| 100/100 [02:08<00:00,  1.29s/it]\n"
     ]
    },
    {
     "data": {
      "text/plain": [
       "[<matplotlib.lines.Line2D at 0x7fe6f05b2100>]"
      ]
     },
     "execution_count": 32,
     "metadata": {},
     "output_type": "execute_result"
    },
    {
     "data": {
      "image/png": "[encoded data removed]",
      "text/plain": [
       "<Figure size 640x480 with 1 Axes>"
      ]
     },
     "metadata": {},
     "output_type": "display_data"
    }
   ],
   "source": [
    "def fourier_exact(beta,N,n,max_iter=100):\n",
    "    if N == 1:\n",
    "        return iv(n,2*beta) * np.exp(-2*N*beta)\n",
    "    else:\n",
    "        s = 0\n",
    "        for l in range(max_iter):\n",
    "            arr = np.zeros((N,N))\n",
    "            for i in range(N):\n",
    "                for j in range(N):\n",
    "                    if i in range(N-1):\n",
    "                        arr[i,j] = iv(l+j-i+n[i],2*beta)\n",
    "                    else:\n",
    "                        arr[i,j] = iv(l+j-i,2*beta)\n",
    "            if l == 0:\n",
    "                s += np.linalg.det(arr)\n",
    "            else:\n",
    "                arr1 = np.zeros((N,N))\n",
    "                for i in range(N):\n",
    "                    for j in range(N):\n",
    "                        if i in range(N-1):\n",
    "                            arr1[i,j] = iv(-l+j-i+n[i],2*beta)\n",
    "                        else:\n",
    "                            arr1[i,j] = iv(-l+j-i,2*beta)\n",
    "                s += (np.linalg.det(arr) + np.linalg.det(arr1))\n",
    "        return s * np.exp(-2*N*beta)\n",
    "    \n",
    "def Z_U1(beta,num=10,cutoff=10):\n",
    "    res = fourier_exact(beta,1,0)**(num**2)\n",
    "    for r in range(1,cutoff):\n",
    "        res += 2 * fourier_exact(beta,1,r)**(num**2)\n",
    "    return res\n",
    "\n",
    "def Z_SU2(beta,num=10,cutoff=10):\n",
    "    res = 0\n",
    "    for r in range(cutoff):\n",
    "        res += (fourier_exact(beta,2,[r])/(r+1))**(num**2)\n",
    "    return res\n",
    "\n",
    "def Z_SU3(beta,num=10,cutoff=10):\n",
    "    res = 0\n",
    "    for p in range(cutoff):\n",
    "        for q in range(cutoff):\n",
    "            dim = (p+1) * (q+1) * (p+q+2)/2\n",
    "            res += (fourier_exact(beta,3,[p,q])/dim)**(num**2)\n",
    "    return res\n",
    "\n",
    "def Z_test(beta,num=10,cutoff=10):\n",
    "    res = 0\n",
    "    for p in range(1,cutoff):\n",
    "        for q in range(1,cutoff):\n",
    "            dim = p * q * (p+q)/2\n",
    "            res += (coeff(beta,p,q)/dim)**(num**2)\n",
    "    return res\n",
    "\n",
    "def char_aux(p,q,A,B):\n",
    "    term1 = np.exp(1j*p*A-1j*q*B) - np.exp(-1j*q*A+1j*p*B)\n",
    "    term2 = np.exp(-1j*p*(A+B)) * (np.exp(-1j*q*A)-np.exp(-1j*q*B))\n",
    "    term3 = np.exp(1j*q*(A+B)) * (np.exp(1j*p*B)-np.exp(1j*p*A))\n",
    "    return -1j * (term1 + term2 + term3)\n",
    "\n",
    "def plaq(beta,A,B):\n",
    "    vp1, vp2, vp3 = np.exp(1j*A), np.exp(1j*B), np.exp(1j*(-A-B))\n",
    "    return np.exp(2*beta*np.real((vp1+vp2+vp3-3)))\n",
    "\n",
    "def s_(A,B):\n",
    "    return 8*np.sin(0.5*(A-B))*np.sin(0.5*(A+2*B))*np.sin(0.5*(2*A+B))\n",
    "\n",
    "def coeff(beta,p,q):\n",
    "    rea = nquad(lambda A,B:np.real(plaq(beta,A,B) * np.conj(char_aux(p,q,A,B)) * s_(A,B)/ (24*np.pi**2)),[[-np.pi,np.pi],[-np.pi,np.pi]])[0]\n",
    "    imagi = nquad(lambda A,B:np.imag(plaq(beta,A,B) * np.conj(char_aux(p,q,A,B)) * s_(A,B)/ (24*np.pi**2)),[[-np.pi,np.pi],[-np.pi,np.pi]])[0]\n",
    "    return rea + 1j * imagi\n",
    "\n",
    "coeff_vec = np.vectorize(coeff)\n",
    "\n",
    "def Z_test(beta,num=10):\n",
    "    s = 0\n",
    "    p = np.arange(1,6)\n",
    "    q = np.arange(1,6)\n",
    "    P,Q = np.meshgrid(p,q)\n",
    "    d = 1/2 * P * Q * (P + Q)\n",
    "    arr = (1/d * coeff_vec(beta,P,Q))**(num**2)\n",
    "    return np.real(np.sum(arr))\n",
    "\n",
    "num_cores = multiprocessing.cpu_count()\n",
    "betas = np.linspace(0, 2, 100)\n",
    "\n",
    "with Parallel(n_jobs=num_cores) as parallel:\n",
    "    Z_list = parallel(delayed(Z_SU3)(beta) for beta in tqdm(betas))\n",
    "    Z_list2 = parallel(delayed(Z_test)(beta) for beta in tqdm(betas))\n",
    "\n",
    "plt.plot(betas[1::],- betas[1::] * np.diff(np.log(Z_list))/np.diff(betas))\n",
    "plt.plot(betas[1::],- betas[1::] * np.diff(np.log(Z_list2))/np.diff(betas))"
   ]
  },
  {
   "cell_type": "code",
   "execution_count": 25,
   "id": "fb224764",
   "metadata": {},
   "outputs": [
    {
     "data": {
      "text/plain": [
       "388.64784826710587"
      ]
     },
     "execution_count": 25,
     "metadata": {},
     "output_type": "execute_result"
    }
   ],
   "source": [
    "(- betas[1::] * np.diff(np.log(Z_list))/np.diff(betas))[-1]"
   ]
  },
  {
   "cell_type": "code",
   "execution_count": null,
   "id": "2b4fbf9c",
   "metadata": {},
   "outputs": [],
   "source": []
  }
 ],
 "metadata": {
  "kernelspec": {
   "display_name": "Python 3 (ipykernel)",
   "language": "python",
   "name": "python3"
  },
  "language_info": {
   "codemirror_mode": {
    "name": "ipython",
    "version": 3
   },
   "file_extension": ".py",
   "mimetype": "text/x-python",
   "name": "python",
   "nbconvert_exporter": "python",
   "pygments_lexer": "ipython3",
   "version": "3.9.5"
  }
 },
 "nbformat": 4,
 "nbformat_minor": 5
}
