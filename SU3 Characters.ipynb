{
 "cells": [
  {
   "cell_type": "code",
   "execution_count": 3,
   "id": "c65025cd",
   "metadata": {},
   "outputs": [],
   "source": [
    "import sympy as sp\n",
    "import numpy as np\n",
    "from scipy.linalg import expm\n",
    "import vegas"
   ]
  },
  {
   "cell_type": "code",
   "execution_count": 4,
   "id": "b5e4ec16",
   "metadata": {},
   "outputs": [
    {
     "data": {
      "text/plain": [
       "{sqrt(3)/3: 2, -2*sqrt(3)/3: 1}"
      ]
     },
     "execution_count": 4,
     "metadata": {},
     "output_type": "execute_result"
    }
   ],
   "source": [
    "l1 = sp.Matrix([[0,1,0],[1,0,0],[0,0,0]])\n",
    "l2 = sp.Matrix([[0,-1j,0],[1j,0,0],[0,0,0]])\n",
    "l3 = sp.Matrix([[1,0,0],[0,-1,0],[0,0,0]])\n",
    "l4 = sp.Matrix([[0,0,1],[0,0,0],[1,0,0]])\n",
    "l5 = sp.Matrix([[0,0,-1j],[0,0,0],[1j,0,0]])\n",
    "l6 = sp.Matrix([[0,0,0],[0,0,1],[0,1,0]])\n",
    "l7 = sp.Matrix([[0,0,0],[0,0,-1j],[0,1j,0]])\n",
    "l8 = 1/sp.sqrt(3) * sp.Matrix([[1,0,0],[0,1,0],[0,0,-2]])\n",
    "a, b, c, d, e, f, g, h = sp.symbols('a b c d e f g h')\n",
    "M = (a*l1 + b*l2 + c*l3 + d*l4 + e*l5 + f*l6 + g*l7 + h*l8)/2\n",
    "\n",
    "l8.eigenvals()"
   ]
  },
  {
   "cell_type": "code",
   "execution_count": 168,
   "id": "9b13d5a8",
   "metadata": {},
   "outputs": [
    {
     "name": "stdout",
     "output_type": "stream",
     "text": [
      "itn   integral        wgt average     chi2/dof        Q\n",
      "-------------------------------------------------------\n",
      "  1   0.1706(82)      0.1706(82)          0.00     1.00\n",
      "  2   0.1609(67)      0.1647(52)          0.43     0.65\n",
      "  3   0.1651(50)      0.1650(36)          0.38     0.83\n",
      "  4   0.1699(42)      0.1670(27)          1.14     0.34\n",
      "  5   0.1644(35)      0.1659(21)          1.53     0.14\n",
      "  6   0.1629(29)      0.1648(17)          1.29     0.23\n",
      "  7   0.1699(25)      0.1664(14)          1.35     0.18\n",
      "  8   0.1711(22)      0.1678(12)          1.43     0.13\n",
      "  9   0.1677(21)      0.1678(10)          1.25     0.22\n",
      " 10   0.1645(20)      0.16711(93)         1.24     0.22\n",
      "\n",
      "result = [0.16711(93) 0.00111(51)]    Q = 0.22\n"
     ]
    },
    {
     "data": {
      "text/plain": [
       "((0.8125772912193178-0.5828534513878046j),\n",
       " (-0.8097757519756632-0.586739492033941j),\n",
       " (-0.9999885250329817+0.004790595199168556j))"
      ]
     },
     "execution_count": 168,
     "metadata": {},
     "output_type": "execute_result"
    }
   ],
   "source": [
    "l1 = np.array([[0,1,0],[1,0,0],[0,0,0]])\n",
    "l2 = np.array([[0,-1j,0],[1j,0,0],[0,0,0]])\n",
    "l3 = np.array([[1,0,0],[0,-1,0],[0,0,0]])\n",
    "l4 = np.array([[0,0,1],[0,0,0],[1,0,0]])\n",
    "l5 = np.array([[0,0,-1j],[0,0,0],[1j,0,0]])\n",
    "l6 = np.array([[0,0,0],[0,0,1],[0,1,0]])\n",
    "l7 = np.array([[0,0,0],[0,0,-1j],[0,1j,0]])\n",
    "l8 = 1/np.sqrt(3) * np.array([[1,0,0],[0,1,0],[0,0,-2]])\n",
    "\n",
    "def su3_gen(x):\n",
    "    alpha1, alpha2, alpha3, alpha4, alpha5, alpha6, alpha7, alpha8 = x\n",
    "    A = expm(1j*alpha1*l3)\n",
    "    B = expm(1j*alpha2*l2)\n",
    "    C = expm(1j*alpha3*l3)\n",
    "    D = expm(1j*alpha4*l5)\n",
    "    E = expm(1j*alpha5*l3)\n",
    "    F = expm(1j*alpha6*l2)\n",
    "    G = expm(1j*alpha7*l3)\n",
    "    H = expm(1j*alpha8*l8)\n",
    "    return np.matmul(A,np.matmul(B,np.matmul(C,np.matmul(D,np.matmul(E,np.matmul(F,np.matmul(G,H)))))))\n",
    "\n",
    "def test(x):\n",
    "    alpha1, alpha2, alpha3, alpha4, alpha5, alpha6, alpha7, alpha8 = x\n",
    "    U = su3_gen(x)\n",
    "    #res = U[0,1] * np.conj(U[0,1])\n",
    "    #res = 1\n",
    "    res = U[0,1] * U[1,2] * U[2,0]\n",
    "    result = res/(np.pi**5) * np.sin(2*alpha2) * np.cos(alpha4) * np.sin(alpha4)**3 * np.sin(2*alpha6)\n",
    "    return [np.real(result),np.imag(result)]\n",
    "\n",
    "def char(x):\n",
    "    U = su3_gen(x)\n",
    "    A, B, C = np.linalg.eig(U)[0]\n",
    "    return A,B,C\n",
    "\n",
    "ls = [[0,np.pi]]\n",
    "for i in range(1,8):\n",
    "    if i%2 == 1:\n",
    "        ls.append([0,np.pi/2])\n",
    "    else:\n",
    "        ls.append([0,2*np.pi])\n",
    "\n",
    "integ = vegas.Integrator(ls)\n",
    "\n",
    "result = integ(test, nitn=10, neval=1000)\n",
    "print(result.summary())\n",
    "print('result = %s    Q = %.2f' % (result, result.Q))\n",
    "\n",
    "char([1,1,1,1,1,1,1,1])"
   ]
  },
  {
   "cell_type": "code",
   "execution_count": 55,
   "id": "1e0fe797",
   "metadata": {},
   "outputs": [
    {
     "data": {
      "text/plain": [
       "0.16606721374059077"
      ]
     },
     "execution_count": 55,
     "metadata": {},
     "output_type": "execute_result"
    }
   ],
   "source": [
    "result[0].mean"
   ]
  },
  {
   "cell_type": "code",
   "execution_count": 105,
   "id": "403004f2",
   "metadata": {},
   "outputs": [
    {
     "name": "stdout",
     "output_type": "stream",
     "text": [
      "itn   integral        wgt average     chi2/dof        Q\n",
      "-------------------------------------------------------\n",
      "  1   96124(8440)     96124(8440)         0.00     1.00\n",
      "  2   124480(9907)    108126(6417)        2.40     0.09\n",
      "  3   124247(9684)    112118(5294)        2.05     0.08\n",
      "  4   107597(8987)    110559(4548)        1.60     0.14\n",
      "  5   124534(11138)   112526(4208)        1.38     0.20\n",
      "  6   108290(7849)    111499(3707)        1.21     0.28\n",
      "  7   117773(8554)    112552(3397)        1.06     0.39\n",
      "  8   127510(9938)    114061(3213)        1.07     0.38\n",
      "  9   113042(7915)    113893(2973)        0.94     0.52\n",
      " 10   115843(7764)    114049(2775)        0.91     0.56\n",
      "\n",
      "result = [114049(2775) -2214(901)]    Q = 0.56\n"
     ]
    }
   ],
   "source": [
    "l1 = np.array([[0,1,0],[1,0,0],[0,0,0]])\n",
    "l2 = np.array([[0,-1j,0],[1j,0,0],[0,0,0]])\n",
    "l3 = np.array([[1,0,0],[0,-1,0],[0,0,0]])\n",
    "l4 = np.array([[0,0,1],[0,0,0],[1,0,0]])\n",
    "l5 = np.array([[0,0,-1j],[0,0,0],[1j,0,0]])\n",
    "l6 = np.array([[0,0,0],[0,0,1],[0,1,0]])\n",
    "l7 = np.array([[0,0,0],[0,0,-1j],[0,1j,0]])\n",
    "l8 = 1/np.sqrt(3) * np.array([[1,0,0],[0,1,0],[0,0,-2]])\n",
    "\n",
    "def su3_gen(x):\n",
    "    a, b, phi, d, e, f, g, psi = x\n",
    "    c, h = - 2*phi, -2/np.sqrt(3) * psi\n",
    "    A = a*l1 + b*l2 + c*l3 + d*l4 + e*l5 + f*l6 + g*l7 + h*l8\n",
    "    return expm(1j*A/2)\n",
    "\n",
    "def test(x):\n",
    "    a, b, phi, d, e, f, g, psi = x\n",
    "    U = su3_gen(x)\n",
    "    #res = U[0,1] * np.conj(U[0,1])\n",
    "    #res = 1\n",
    "    res = U[0,1] * U[1,2] * U[2,0]\n",
    "    result = 4/(18*np.pi**2) * res * np.sin(phi/2)**2 * np.sin(1/2*(phi/2+psi))**2 * np.sin(1/2*(-1/2*phi+psi))**2\n",
    "    #result = res * 64/(24*np.pi**2) * np.sin(phi)**2 * np.sin(1/2*(phi+psi))**2 * np.sin(1/2*(-phi+psi))**2\n",
    "    return [np.real(result),np.imag(result)]\n",
    "\n",
    "ls = []\n",
    "for i in range(8):\n",
    "    ls.append([-2*np.pi,2*np.pi])\n",
    "\n",
    "ls[2] = [-2*np.pi,2*np.pi]\n",
    "ls[7] = [-3*np.pi,3*np.pi]\n",
    "\n",
    "integ = vegas.Integrator(ls)\n",
    "\n",
    "result = integ(test, nitn=10, neval=1000)\n",
    "print(result.summary())\n",
    "print('result = %s    Q = %.2f' % (result, result.Q))"
   ]
  },
  {
   "cell_type": "code",
   "execution_count": 73,
   "id": "7002c025",
   "metadata": {},
   "outputs": [
    {
     "ename": "TypeError",
     "evalue": "Cannot convert expression to float",
     "output_type": "error",
     "traceback": [
      "\u001b[0;31m---------------------------------------------------------------------------\u001b[0m",
      "\u001b[0;31mTypeError\u001b[0m                                 Traceback (most recent call last)",
      "Cell \u001b[0;32mIn[73], line 1\u001b[0m\n\u001b[0;32m----> 1\u001b[0m \u001b[43msu3_gen\u001b[49m\u001b[43m(\u001b[49m\u001b[43m[\u001b[49m\u001b[38;5;241;43m1\u001b[39;49m\u001b[43m,\u001b[49m\u001b[38;5;241;43m1\u001b[39;49m\u001b[43m,\u001b[49m\u001b[38;5;241;43m1\u001b[39;49m\u001b[43m,\u001b[49m\u001b[38;5;241;43m1\u001b[39;49m\u001b[43m,\u001b[49m\u001b[38;5;241;43m1\u001b[39;49m\u001b[43m,\u001b[49m\u001b[38;5;241;43m1\u001b[39;49m\u001b[43m,\u001b[49m\u001b[38;5;241;43m1\u001b[39;49m\u001b[43m,\u001b[49m\u001b[38;5;241;43m1\u001b[39;49m\u001b[43m]\u001b[49m\u001b[43m)\u001b[49m\n",
      "Cell \u001b[0;32mIn[71], line 14\u001b[0m, in \u001b[0;36msu3_gen\u001b[0;34m(x)\u001b[0m\n\u001b[1;32m     12\u001b[0m c, h \u001b[38;5;241m=\u001b[39m \u001b[38;5;241m-\u001b[39m \u001b[38;5;241m2\u001b[39m\u001b[38;5;241m*\u001b[39mphi, \u001b[38;5;241m-\u001b[39m\u001b[38;5;241m2\u001b[39m\u001b[38;5;241m/\u001b[39mnp\u001b[38;5;241m.\u001b[39msqrt(\u001b[38;5;241m3\u001b[39m) \u001b[38;5;241m*\u001b[39m psi\n\u001b[1;32m     13\u001b[0m g \u001b[38;5;241m=\u001b[39m alpha1\u001b[38;5;241m*\u001b[39ml1 \u001b[38;5;241m+\u001b[39m alpha2\u001b[38;5;241m*\u001b[39ml2 \u001b[38;5;241m+\u001b[39m alpha3\u001b[38;5;241m*\u001b[39ml3 \u001b[38;5;241m+\u001b[39m alpha4\u001b[38;5;241m*\u001b[39ml4 \u001b[38;5;241m+\u001b[39m alpha5\u001b[38;5;241m*\u001b[39ml5 \u001b[38;5;241m+\u001b[39m alpha6\u001b[38;5;241m*\u001b[39ml6 \u001b[38;5;241m+\u001b[39m alpha7\u001b[38;5;241m*\u001b[39ml7 \u001b[38;5;241m+\u001b[39m alpha8\u001b[38;5;241m*\u001b[39ml8\n\u001b[0;32m---> 14\u001b[0m \u001b[38;5;28;01mreturn\u001b[39;00m \u001b[43mexpm\u001b[49m\u001b[43m(\u001b[49m\u001b[38;5;241;43m1\u001b[39;49m\u001b[43mj\u001b[49m\u001b[38;5;241;43m*\u001b[39;49m\u001b[43mg\u001b[49m\u001b[38;5;241;43m/\u001b[39;49m\u001b[38;5;241;43m2\u001b[39;49m\u001b[43m)\u001b[49m\n",
      "File \u001b[0;32m~/miniconda3/lib/python3.10/site-packages/scipy/linalg/_matfuncs.py:300\u001b[0m, in \u001b[0;36mexpm\u001b[0;34m(A)\u001b[0m\n\u001b[1;32m    297\u001b[0m     \u001b[38;5;28;01mreturn\u001b[39;00m np\u001b[38;5;241m.\u001b[39mexp(a)\n\u001b[1;32m    299\u001b[0m \u001b[38;5;28;01mif\u001b[39;00m \u001b[38;5;129;01mnot\u001b[39;00m np\u001b[38;5;241m.\u001b[39missubdtype(a\u001b[38;5;241m.\u001b[39mdtype, np\u001b[38;5;241m.\u001b[39minexact):\n\u001b[0;32m--> 300\u001b[0m     a \u001b[38;5;241m=\u001b[39m \u001b[43ma\u001b[49m\u001b[38;5;241;43m.\u001b[39;49m\u001b[43mastype\u001b[49m\u001b[43m(\u001b[49m\u001b[38;5;28;43mfloat\u001b[39;49m\u001b[43m)\u001b[49m\n\u001b[1;32m    301\u001b[0m \u001b[38;5;28;01melif\u001b[39;00m a\u001b[38;5;241m.\u001b[39mdtype \u001b[38;5;241m==\u001b[39m np\u001b[38;5;241m.\u001b[39mfloat16:\n\u001b[1;32m    302\u001b[0m     a \u001b[38;5;241m=\u001b[39m a\u001b[38;5;241m.\u001b[39mastype(np\u001b[38;5;241m.\u001b[39mfloat32)\n",
      "File \u001b[0;32m~/miniconda3/lib/python3.10/site-packages/sympy/core/expr.py:351\u001b[0m, in \u001b[0;36mExpr.__float__\u001b[0;34m(self)\u001b[0m\n\u001b[1;32m    349\u001b[0m \u001b[38;5;28;01mif\u001b[39;00m result\u001b[38;5;241m.\u001b[39mis_number \u001b[38;5;129;01mand\u001b[39;00m result\u001b[38;5;241m.\u001b[39mas_real_imag()[\u001b[38;5;241m1\u001b[39m]:\n\u001b[1;32m    350\u001b[0m     \u001b[38;5;28;01mraise\u001b[39;00m \u001b[38;5;167;01mTypeError\u001b[39;00m(\u001b[38;5;124m\"\u001b[39m\u001b[38;5;124mCannot convert complex to float\u001b[39m\u001b[38;5;124m\"\u001b[39m)\n\u001b[0;32m--> 351\u001b[0m \u001b[38;5;28;01mraise\u001b[39;00m \u001b[38;5;167;01mTypeError\u001b[39;00m(\u001b[38;5;124m\"\u001b[39m\u001b[38;5;124mCannot convert expression to float\u001b[39m\u001b[38;5;124m\"\u001b[39m)\n",
      "\u001b[0;31mTypeError\u001b[0m: Cannot convert expression to float"
     ]
    }
   ],
   "source": [
    "su3_gen([1,1,1,1,1,1,1,1])"
   ]
  },
  {
   "cell_type": "code",
   "execution_count": 115,
   "id": "a56f03ec",
   "metadata": {},
   "outputs": [
    {
     "name": "stdout",
     "output_type": "stream",
     "text": [
      "itn   integral        wgt average     chi2/dof        Q\n",
      "-------------------------------------------------------\n",
      "  1   374851(14985)   374851(14985)       0.00     1.00\n",
      "  2   385685(14368)   380495(10371)       0.14     0.87\n",
      "  3   366089(12653)   374706(8021)        0.26     0.90\n",
      "  4   386006(11818)   378270(6637)        0.28     0.95\n",
      "  5   384534(11251)   379887(5716)        0.24     0.98\n",
      "  6   353134(10912)   374126(5064)        0.66     0.76\n",
      "  7   367063(11053)   372901(4604)        0.58     0.86\n",
      "  8   352982(10481)   369680(4215)        0.71     0.76\n",
      "  9   389822(10733)   372371(3923)        0.81     0.67\n",
      " 10   369513(10543)   372024(3677)        0.73     0.79\n",
      "\n",
      "result = [372024(3677) 0(0)]    Q = 0.79\n"
     ]
    }
   ],
   "source": [
    "def C(i,j):\n",
    "    arr = np.zeros((3,3))\n",
    "    arr[i,j] = 1\n",
    "    if i != j:\n",
    "        return arr\n",
    "    else:\n",
    "        return arr - 1/3 * np.eye(3)\n",
    "    \n",
    "def su3_gen(theta):\n",
    "    t11, t12, t13, t21, t22, t23, t31, t32 = theta\n",
    "    s = t11 * C(0,0) + t12 * C(0,1) + t13 * C(0,2) + t21 * C(1,0) + t22 * C(1,1) + t23 * C(1,2) + t31 * C(2,0) + t32 * C(2,1) - (t11 + t22) * C(2,2)\n",
    "    return expm(-1j*s)\n",
    "\n",
    "def test(x):\n",
    "    phi, t12, t13, t21, psi, t23, t31, t32 = x\n",
    "    t11 = 1/2 * (2/2*psi + 2*phi)\n",
    "    t22 = t11 - 2*phi\n",
    "    y = np.array([t11, t12, t13, t21, t22, t23, t31, t32])\n",
    "    U = su3_gen(y)\n",
    "    #res = U[0,1] * np.conj(U[0,1])\n",
    "    res = 1\n",
    "    #res = U[0,1] * U[1,2] * U[2,0]\n",
    "    result = res * 64/(24*np.pi**2) * np.sin(phi)**2 * np.sin(1/2*(phi+psi))**2 * np.sin(1/2*(-phi+psi))**2\n",
    "    return [np.real(result),np.imag(result)]\n",
    "\n",
    "ls = []\n",
    "for i in range(8):\n",
    "    ls.append([0,2*np.pi])\n",
    "\n",
    "ls[0] = [-2*np.pi,2*np.pi]\n",
    "ls[4] = [-3*np.pi,3*np.pi]\n",
    "\n",
    "integ = vegas.Integrator(ls)\n",
    "\n",
    "result = integ(test, nitn=10, neval=1000)\n",
    "print(result.summary())\n",
    "print('result = %s    Q = %.2f' % (result, result.Q))"
   ]
  },
  {
   "cell_type": "code",
   "execution_count": 95,
   "id": "4b07ed04",
   "metadata": {},
   "outputs": [
    {
     "data": {
      "text/plain": [
       "(1+8.326672684688676e-16j)"
      ]
     },
     "execution_count": 95,
     "metadata": {},
     "output_type": "execute_result"
    }
   ],
   "source": [
    "x = np.random.uniform(low=0,high=2*np.pi,size=8)\n",
    "arr = su3_gen(x)\n",
    "np.linalg.det(arr)"
   ]
  },
  {
   "cell_type": "code",
   "execution_count": 114,
   "id": "a3a90642",
   "metadata": {},
   "outputs": [
    {
     "name": "stdout",
     "output_type": "stream",
     "text": [
      "itn   integral        wgt average     chi2/dof        Q\n",
      "-------------------------------------------------------\n",
      "  1   344341(14490)   344341(14490)       0.00     1.00\n",
      "  2   373828(13899)   359698(10030)       1.08     0.34\n",
      "  3   401514(12998)   375305(7941)        2.16     0.07\n",
      "  4   390119(11763)   379942(6582)        1.62     0.14\n",
      "  5   355366(11197)   373632(5674)        1.66     0.10\n",
      "  6   376515(10707)   374264(5014)        1.34     0.20\n",
      "  7   367164(10737)   372993(4543)        1.14     0.32\n",
      "  8   365441(10546)   371811(4172)        1.01     0.44\n",
      "  9   377018(10534)   372517(3879)        0.90     0.57\n",
      " 10   367004(10506)   371856(3639)        0.81     0.69\n",
      "\n",
      "result = [371856(3639) 0(0)]    Q = 0.69\n"
     ]
    }
   ],
   "source": [
    "def C(i,j):\n",
    "    arr = np.zeros((3,3))\n",
    "    arr[i,j] = 1\n",
    "    return arr\n",
    "\n",
    "def lamb(i,j):\n",
    "    if i < j:\n",
    "        return C(i,j) + C(j,i)\n",
    "    else:\n",
    "        return 1j * (C(i,j) - C(j,i))\n",
    "    \n",
    "def su3_gen(theta):\n",
    "    t11, t12, t13, t21, t22, t23, t31, t32 = theta\n",
    "    s = t11 * C(0,0) + t22 * C(1,1) - (t11 + t22) * C(2,2) + t12 * lamb(0,1) + t13 * lamb(0,2) + t21 * lamb(1,0) + t23 * lamb(1,2) + t31 * lamb(2,0) + t32 * lamb(2,1)\n",
    "    return expm(-1j*s)\n",
    "\n",
    "def test(x):\n",
    "    phi, t12, t13, t21, psi, t23, t31, t32 = x\n",
    "    t11 = 1/2 * (2/2*psi + 2*phi)\n",
    "    t22 = t11 - 2*phi\n",
    "    y = np.array([t11, t12, t13, t21, t22, t23, t31, t32])\n",
    "    U = su3_gen(y)\n",
    "    #res = U[0,1] * np.conj(U[0,1])\n",
    "    res = 1\n",
    "    #res = U[0,1] * U[1,2] * U[2,0]\n",
    "    result = res * 8/(3*np.pi**2) * np.sin(phi)**2 * np.sin(1/2*(phi+psi))**2 * np.sin(1/2*(-phi+psi))**2\n",
    "    return [np.real(result),np.imag(result)]\n",
    "\n",
    "ls = []\n",
    "for i in range(8):\n",
    "    ls.append([0,2*np.pi])\n",
    "\n",
    "ls[0] = [-2*np.pi,2*np.pi]\n",
    "ls[4] = [-3*np.pi,3*np.pi]\n",
    "\n",
    "integ = vegas.Integrator(ls)\n",
    "\n",
    "result = integ(test, nitn=10, neval=1000)\n",
    "print(result.summary())\n",
    "print('result = %s    Q = %.2f' % (result, result.Q))"
   ]
  },
  {
   "cell_type": "code",
   "execution_count": 112,
   "id": "8665286b",
   "metadata": {},
   "outputs": [
    {
     "data": {
      "text/plain": [
       "(0.9483197635580757+1.4769205252082573j)"
      ]
     },
     "execution_count": 112,
     "metadata": {},
     "output_type": "execute_result"
    }
   ],
   "source": [
    "def char(p,q,phi,psi):\n",
    "    s = 0\n",
    "    for k in range(p):\n",
    "        for l in range(q):\n",
    "            s += np.exp(-1j*(k+l)*psi) * np.sin((k-l+q+1)*phi/2)/np.sin(phi/2)\n",
    "    return np.exp(1j*psi/3*(2*p+q)) * s"
   ]
  },
  {
   "cell_type": "code",
   "execution_count": 169,
   "id": "2e14c31d",
   "metadata": {},
   "outputs": [
    {
     "name": "stdout",
     "output_type": "stream",
     "text": [
      "itn   integral        wgt average     chi2/dof        Q\n",
      "-------------------------------------------------------\n",
      "  1   30.9(4.8)       30.9(4.8)           0.00     1.00\n",
      "  2   38.0(4.8)       34.5(3.4)           0.55     0.58\n",
      "  3   29.3(2.3)       30.9(1.9)           0.67     0.61\n",
      "  4   34.7(2.1)       32.7(1.4)           0.75     0.61\n",
      "  5   31.7(1.1)       32.07(88)           0.60     0.78\n",
      "  6   32.88(91)       32.47(63)           0.52     0.88\n",
      "  7   31.21(72)       31.92(47)           0.57     0.86\n",
      "  8   30.56(64)       31.43(38)           0.70     0.77\n",
      "  9   30.06(53)       30.97(31)           0.89     0.58\n",
      " 10   31.35(49)       31.08(26)           0.81     0.69\n",
      "\n",
      "result = [31.08(26) 0(0)]    Q = 0.69\n"
     ]
    }
   ],
   "source": [
    "def Phi1(arr):\n",
    "    alpha1, alpha2, alpha3, phi1, phi2 = arr\n",
    "    x1 = np.cos(alpha1) * np.sin(phi1)\n",
    "    x2 = np.sin(alpha1) * np.sin(phi1)\n",
    "    x3 = np.sin(alpha2) * np.cos(phi1) * np.sin(phi2)\n",
    "    x4 = np.cos(alpha2) * np.cos(phi1) * np.sin(phi2)\n",
    "    x5 = np.sin(alpha3) * np.cos(phi1) * np.cos(phi2)\n",
    "    x6 = np.cos(alpha3) * np.cos(phi1) * np.cos(phi2)\n",
    "    return np.array([x1,x2,x3,x4,x5,x6])\n",
    "\n",
    "def Phi1_inv(x1, x2, x3, x4, x5, x6):\n",
    "    alpha1 = np.arctan2(x2,x1)\n",
    "    if alpha1 < 0:\n",
    "        alpha1 += np.pi\n",
    "    alpha2 = np.arctan2(x3,x4)\n",
    "    if alpha2 < 0:\n",
    "        alpha2 += np.pi\n",
    "    alpha3 = np.arctan2(x5,x6)\n",
    "    if alpha3 < 0:\n",
    "        alpha3 += np.pi\n",
    "    phi1 = np.arcsin(np.sqrt(x1**2 + x2**2))\n",
    "    if abs(x1**2 + x2**2 - 1) < 1e-5:\n",
    "        phi2 = 0\n",
    "    else:\n",
    "        phi2 = np.arcsin(np.sqrt((x3**2+x4**2)/(1-x1**2-x2**2)))\n",
    "    return alpha1,alpha2,alpha3,phi1,phi2\n",
    "\n",
    "Phi1_inv_vec = np.vectorize(Phi1_inv)\n",
    "    \n",
    "def Phi(x,y,z,t):\n",
    "    alpha = x + 1j*y\n",
    "    beta = z + 1j*t\n",
    "    return np.array([[alpha, -beta.conjugate()], [beta,alpha.conjugate()]])\n",
    "\n",
    "def Phi2(alpha1, alpha2, alpha3, phi1, phi2, U):\n",
    "    arr00 = np.exp(1j*alpha1) * np.cos(phi1)\n",
    "    arr02 = np.exp(1j*alpha1) * np.sin(phi1)\n",
    "    arr10 = - np.exp(1j*alpha2) * np.sin(phi1) * np.sin(phi2)\n",
    "    arr11 = np.exp(-1j*alpha1-1j*alpha3) * np.cos(phi2)\n",
    "    arr12 = np.exp(1j*alpha2) * np.cos(phi1) * np.sin(phi2)\n",
    "    arr20 = - np.exp(1j*alpha3) * np.sin(phi1) * np.cos(phi2)\n",
    "    arr21 = - np.exp(-1j*alpha1-1j*alpha2) * np.sin(phi2)\n",
    "    arr22 = np.exp(1j*alpha3) * np.cos(phi1) * np.cos(phi2)\n",
    "    arr0 = np.array([[arr00, 0, arr02],[arr10,arr11,arr12],[arr20,arr21,arr22]])\n",
    "    arr1 = np.zeros((3,3),dtype=complex)\n",
    "    arr1[:2,:2] = U\n",
    "    arr1[2,2] = 1\n",
    "    return arr0.dot(arr1)\n",
    "\n",
    "def Phi3(x1, x2, x3, x4, x5, x6, x, y, z, t):\n",
    "    arr0 = Phi1_inv(x1, x2, x3, x4, x5, x6)\n",
    "    alpha1, alpha2, alpha3, phi1, phi2 = Phi1_inv(x1, x2, x3, x4, x5, x6)\n",
    "    U = Phi(x, y, z, t)\n",
    "    return Phi2(alpha1, alpha2, alpha3, phi1, phi2, U)\n",
    "\n",
    "def diffeo(p1,p2,p3,p4,p5,t1,t2,t3):\n",
    "    x1 = np.cos(p1)\n",
    "    x2 = np.sin(p1) * np.cos(p2)\n",
    "    x3 = np.sin(p1) * np.sin(p2) * np.cos(p3)\n",
    "    x4 = np.sin(p1) * np.sin(p2) * np.sin(p3) * np.cos(p4)\n",
    "    x5 = np.sin(p1) * np.sin(p2) * np.sin(p3) * np.sin(p4) * np.cos(p5)\n",
    "    x6 = np.sin(p1) * np.sin(p2) * np.sin(p3) * np.sin(p4) * np.sin(p5)\n",
    "    y1 = np.cos(t1)\n",
    "    y2 = np.sin(t1) * np.cos(t2)\n",
    "    y3 = np.sin(t1) * np.sin(t2) * np.cos(t3)\n",
    "    y4 = np.sin(t1) * np.sin(t2) * np.sin(t3)\n",
    "    return x1,x2,x3,x4,x5,x6,y1,y2,y3,y4\n",
    "\n",
    "def jacob(p1,p2,p3,p4,p5,t1,t2,t3):\n",
    "    arg0, arg1, arg2, arg3, arg4, arg5, arg6, arg7, arg8, arg9 = diffeo(p1,p2,p3,p4,p5,t1,t2,t3)\n",
    "    return Phi3(arg0, arg1, arg2, arg3, arg4, arg5, arg6, arg7, arg8, arg9)\n",
    "\n",
    "def jacob_vec(p1,p2,p3,p4,p5,t1,t2,t3):\n",
    "    x1, x2, x3, x4, x5, x6, y1, y2, y3, y4 = diffeo(p1,p2,p3,p4,p5,t1,t2,t3)\n",
    "    Phi2_vec = np.vectorize(Phi2)\n",
    "    alpha1, alpha2, alpha3, phi1, phi2 = Phi1_inv_vec(x1, x2, x3, x4, x5, x6)\n",
    "    U = Phi(y1, y2, y3, y4)\n",
    "    return Phi2_vec(alpha1, alpha2, alpha3, phi1, phi2, U)\n",
    "\n",
    "def jacob(arr):\n",
    "    p1,p2,p3,p4,p5,t1,t2,t3 = arr\n",
    "    arg0, arg1, arg2, arg3, arg4, arg5, arg6, arg7, arg8, arg9 = diffeo(p1,p2,p3,p4,p5,t1,t2,t3)\n",
    "    integrand = Phi3(arg0, arg1, arg2, arg3, arg4, arg5, arg6, arg7, arg8, arg9)\n",
    "    return integrand\n",
    "\n",
    "def char(p,q,arr):\n",
    "    phi = arr[0]/2\n",
    "    psi = arr[7] - phi\n",
    "    s = 0\n",
    "    for k in range(p):\n",
    "        for l in range(q):\n",
    "            s += np.exp(-1j*(k+l)*psi) * np.sin((k-l+q+1)*phi/2)/np.sin(phi/2)\n",
    "    return np.exp(1j*psi/3*(2*p+q)) * s\n",
    "\n",
    "def test(arr):\n",
    "    #M = jacob(arr)\n",
    "    p1,p2,p3,p4,p5,t1,t2,t3 = arr\n",
    "    res = char(2,2,arr) * np.conj(char(2,2,arr))\n",
    "    #res = M[0,1] * np.conj(M[0,1])\n",
    "    #res = 1\n",
    "    #res = M[0,1] * M[1,2] * M[2,0]\n",
    "    result = res/(2*np.pi**5) * np.sin(p1)**4 * np.sin(p2)**3 * np.sin(p3)**2 * np.sin(p4) * np.sin(t1)**2 * np.sin(t2)\n",
    "    return [np.real(result), np.imag(result)]\n",
    "\n",
    "ls = []\n",
    "for _ in range(2):\n",
    "    ls.append([0,np.pi])\n",
    "ls.append([0,2*np.pi])\n",
    "for _ in range(4):\n",
    "    ls.append([0,np.pi])\n",
    "ls.append([0,2*np.pi])\n",
    "    \n",
    "integ = vegas.Integrator(ls)\n",
    "\n",
    "result = integ(test, nitn=10, neval=1000)\n",
    "print(result.summary())\n",
    "print('result = %s    Q = %.2f' % (result, result.Q))"
   ]
  },
  {
   "cell_type": "code",
   "execution_count": 158,
   "id": "4ca9530e",
   "metadata": {},
   "outputs": [
    {
     "name": "stdout",
     "output_type": "stream",
     "text": [
      "itn   integral        wgt average     chi2/dof        Q\n",
      "-------------------------------------------------------\n",
      "  1   1.4(1.0)        1.4(1.0)            0.00     1.00\n",
      "  2   0.16(10)        0.17(10)            0.77     0.46\n",
      "  3   0.66(40)        0.203(99)           0.72     0.58\n",
      "  4   0.0176(73)      0.0186(73)          1.07     0.38\n",
      "  5   0.0132(85)      0.0163(56)          0.83     0.58\n",
      "  6   0.13(10)        0.0166(55)          0.78     0.65\n",
      "  7   0.72(51)        0.0167(55)          0.80     0.65\n",
      "  8   0.12(11)        0.0170(55)          0.76     0.72\n",
      "  9   0.0063(38)      0.0097(31)          0.82     0.66\n",
      " 10   0.025(12)       0.0107(30)          0.82     0.67\n",
      "\n",
      "result = [0.0107(30) 0(0)]    Q = 0.67\n"
     ]
    }
   ],
   "source": [
    "l1 = np.array([[0,1,0],[1,0,0],[0,0,0]])\n",
    "l2 = np.array([[0,-1j,0],[1j,0,0],[0,0,0]])\n",
    "l3 = np.array([[1,0,0],[0,-1,0],[0,0,0]])\n",
    "l4 = np.array([[0,0,1],[0,0,0],[1,0,0]])\n",
    "l5 = np.array([[0,0,-1j],[0,0,0],[1j,0,0]])\n",
    "l6 = np.array([[0,0,0],[0,0,1],[0,1,0]])\n",
    "l7 = np.array([[0,0,0],[0,0,-1j],[0,1j,0]])\n",
    "l8 = 1/np.sqrt(3) * np.array([[1,0,0],[0,1,0],[0,0,-2]])\n",
    "\n",
    "def su3_gen(arr):\n",
    "    angle = arr[0]\n",
    "    eps = 1e-2\n",
    "    norm = np.linalg.norm(arr[1:])/angle\n",
    "    if norm <= 1 + eps and norm >= 1 - eps:\n",
    "        s = arr[0]*l1 + arr[1]*l2 + arr[2]*l3 + arr[3]*l4 + arr[4]*l5 + arr[5]*l6 + arr[6]*l7 + arr[7]*l8\n",
    "        return expm(1j*s/2)\n",
    "    else:\n",
    "        return np.zeros((3,3))\n",
    "\n",
    "def test(arr):\n",
    "    arr0 = su3_gen(arr)\n",
    "    res = arr0[0,1] * np.conj(arr0[0,1])\n",
    "    return [np.real(res), np.imag(res)]\n",
    "\n",
    "ls = [[0,4*np.pi]]\n",
    "for _ in range(1,8):\n",
    "    ls.append([-1,1])\n",
    "    \n",
    "integ = vegas.Integrator(ls)\n",
    "\n",
    "result = integ(test, nitn=10, neval=1000)\n",
    "print(result.summary())\n",
    "print('result = %s    Q = %.2f' % (result, result.Q))"
   ]
  },
  {
   "cell_type": "code",
   "execution_count": 166,
   "id": "109ad334",
   "metadata": {},
   "outputs": [
    {
     "data": {
      "text/plain": [
       "(7.498798913309288e-33+3.141592653589793j)"
      ]
     },
     "execution_count": 166,
     "metadata": {},
     "output_type": "execute_result"
    }
   ],
   "source": [
    "np.log(np.exp(1j*np.pi))"
   ]
  },
  {
   "cell_type": "code",
   "execution_count": 9,
   "id": "f60e680c",
   "metadata": {},
   "outputs": [
    {
     "name": "stdout",
     "output_type": "stream",
     "text": [
      "itn   integral        wgt average     chi2/dof        Q\n",
      "-------------------------------------------------------\n",
      "  1   0.66(11)        0.66(11)            0.00     1.00\n",
      "  2   0.89(21)        0.72(10)            0.45     0.64\n",
      "  3   0.82(11)        0.766(73)           0.35     0.84\n",
      "  4   0.860(98)       0.799(59)           0.33     0.92\n",
      "  5   0.99(12)        0.835(53)           0.49     0.86\n",
      "  6   1.23(26)        0.850(52)           0.61     0.80\n",
      "  7   0.98(11)        0.873(47)           0.60     0.84\n",
      "  8   0.948(76)       0.893(40)           0.57     0.89\n",
      "  9   0.945(70)       0.906(35)           0.52     0.94\n",
      " 10   0.942(58)       0.915(30)           0.48     0.97\n",
      "\n",
      "result = [0.915(30) 0(0)]    Q = 0.97\n"
     ]
    },
    {
     "data": {
      "text/plain": [
       "0.9153802569087192"
      ]
     },
     "execution_count": 9,
     "metadata": {},
     "output_type": "execute_result"
    }
   ],
   "source": [
    "def Phi1(arr):\n",
    "    alpha1, alpha2, alpha3, phi1, phi2 = arr\n",
    "    x1 = np.cos(alpha1) * np.sin(phi1)\n",
    "    x2 = np.sin(alpha1) * np.sin(phi1)\n",
    "    x3 = np.sin(alpha2) * np.cos(phi1) * np.sin(phi2)\n",
    "    x4 = np.cos(alpha2) * np.cos(phi1) * np.sin(phi2)\n",
    "    x5 = np.sin(alpha3) * np.cos(phi1) * np.cos(phi2)\n",
    "    x6 = np.cos(alpha3) * np.cos(phi1) * np.cos(phi2)\n",
    "    return np.array([x1,x2,x3,x4,x5,x6])\n",
    "\n",
    "def Phi1_inv(x1, x2, x3, x4, x5, x6):\n",
    "    alpha1 = np.arctan2(x2,x1)\n",
    "    if alpha1 < 0:\n",
    "        alpha1 += np.pi\n",
    "    alpha2 = np.arctan2(x3,x4)\n",
    "    if alpha2 < 0:\n",
    "        alpha2 += np.pi\n",
    "    alpha3 = np.arctan2(x5,x6)\n",
    "    if alpha3 < 0:\n",
    "        alpha3 += np.pi\n",
    "    phi1 = np.arcsin(np.sqrt(x1**2 + x2**2))\n",
    "    if abs(x1**2 + x2**2 - 1) < 1e-5:\n",
    "        phi2 = 0\n",
    "    else:\n",
    "        phi2 = np.arcsin(np.sqrt((x3**2+x4**2)/(1-x1**2-x2**2)))\n",
    "    return alpha1,alpha2,alpha3,phi1,phi2\n",
    "\n",
    "Phi1_inv_vec = np.vectorize(Phi1_inv)\n",
    "    \n",
    "def Phi(x,y,z,t):\n",
    "    alpha = x + 1j*y\n",
    "    beta = z + 1j*t\n",
    "    return np.array([[alpha, -beta.conjugate()], [beta,alpha.conjugate()]])\n",
    "\n",
    "def Phi2(alpha1, alpha2, alpha3, phi1, phi2, U):\n",
    "    arr00 = np.exp(1j*alpha1) * np.cos(phi1)\n",
    "    arr02 = np.exp(1j*alpha1) * np.sin(phi1)\n",
    "    arr10 = - np.exp(1j*alpha2) * np.sin(phi1) * np.sin(phi2)\n",
    "    arr11 = np.exp(-1j*alpha1-1j*alpha3) * np.cos(phi2)\n",
    "    arr12 = np.exp(1j*alpha2) * np.cos(phi1) * np.sin(phi2)\n",
    "    arr20 = - np.exp(1j*alpha3) * np.sin(phi1) * np.cos(phi2)\n",
    "    arr21 = - np.exp(-1j*alpha1-1j*alpha2) * np.sin(phi2)\n",
    "    arr22 = np.exp(1j*alpha3) * np.cos(phi1) * np.cos(phi2)\n",
    "    arr0 = np.array([[arr00, 0, arr02],[arr10,arr11,arr12],[arr20,arr21,arr22]])\n",
    "    arr1 = np.zeros((3,3),dtype=complex)\n",
    "    arr1[:2,:2] = U\n",
    "    arr1[2,2] = 1\n",
    "    return arr0.dot(arr1)\n",
    "\n",
    "def Phi3(x1, x2, x3, x4, x5, x6, x, y, z, t):\n",
    "    arr0 = Phi1_inv(x1, x2, x3, x4, x5, x6)\n",
    "    alpha1, alpha2, alpha3, phi1, phi2 = Phi1_inv(x1, x2, x3, x4, x5, x6)\n",
    "    U = Phi(x, y, z, t)\n",
    "    return Phi2(alpha1, alpha2, alpha3, phi1, phi2, U)\n",
    "\n",
    "def diffeo(p1,p2,p3,p4,p5,t1,t2,t3):\n",
    "    x1 = np.cos(p1)\n",
    "    x2 = np.sin(p1) * np.cos(p2)\n",
    "    x3 = np.sin(p1) * np.sin(p2) * np.cos(p3)\n",
    "    x4 = np.sin(p1) * np.sin(p2) * np.sin(p3) * np.cos(p4)\n",
    "    x5 = np.sin(p1) * np.sin(p2) * np.sin(p3) * np.sin(p4) * np.cos(p5)\n",
    "    x6 = np.sin(p1) * np.sin(p2) * np.sin(p3) * np.sin(p4) * np.sin(p5)\n",
    "    y1 = np.cos(t1)\n",
    "    y2 = np.sin(t1) * np.cos(t2)\n",
    "    y3 = np.sin(t1) * np.sin(t2) * np.cos(t3)\n",
    "    y4 = np.sin(t1) * np.sin(t2) * np.sin(t3)\n",
    "    return x1,x2,x3,x4,x5,x6,y1,y2,y3,y4\n",
    "\n",
    "def jacob(p1,p2,p3,p4,p5,t1,t2,t3):\n",
    "    arg0, arg1, arg2, arg3, arg4, arg5, arg6, arg7, arg8, arg9 = diffeo(p1,p2,p3,p4,p5,t1,t2,t3)\n",
    "    return Phi3(arg0, arg1, arg2, arg3, arg4, arg5, arg6, arg7, arg8, arg9)\n",
    "\n",
    "def jacob_vec(p1,p2,p3,p4,p5,t1,t2,t3):\n",
    "    x1, x2, x3, x4, x5, x6, y1, y2, y3, y4 = diffeo(p1,p2,p3,p4,p5,t1,t2,t3)\n",
    "    Phi2_vec = np.vectorize(Phi2)\n",
    "    alpha1, alpha2, alpha3, phi1, phi2 = Phi1_inv_vec(x1, x2, x3, x4, x5, x6)\n",
    "    U = Phi(y1, y2, y3, y4)\n",
    "    return Phi2_vec(alpha1, alpha2, alpha3, phi1, phi2, U)\n",
    "\n",
    "def jacob(arr):\n",
    "    p1,p2,p3,p4,p5,t1,t2,t3 = arr\n",
    "    arg0, arg1, arg2, arg3, arg4, arg5, arg6, arg7, arg8, arg9 = diffeo(p1,p2,p3,p4,p5,t1,t2,t3)\n",
    "    integrand = Phi3(arg0, arg1, arg2, arg3, arg4, arg5, arg6, arg7, arg8, arg9)\n",
    "    return integrand\n",
    "\n",
    "def char(p,q,M):\n",
    "    A, B, C = -1j * np.log(np.linalg.eig(M)[0])\n",
    "    if A != B:\n",
    "        s = 8*np.sin(0.5*(A-B))*np.sin(0.5*(A+2*B))*np.sin(0.5*(2*A+B))\n",
    "        term1 = np.exp(1j*p*A-1j*q*B) - np.exp(-1j*q*A+1j*p*B)\n",
    "        term2 = np.exp(-1j*p*(A+B)) * (np.exp(-1j*q*A)-np.exp(-1j*q*B))\n",
    "        term3 = np.exp(1j*q*(A+B)) * (np.exp(1j*p*B)-np.exp(1j*p*A))\n",
    "        return -1j/s * (term1 + term2 + term3)\n",
    "    elif A == B and A != 0:\n",
    "        s = 8 * np.sin(3/2 * A)**2\n",
    "        term1 = np.exp(1j*(p-q)*A) * (p+q)\n",
    "        term2 = - np.exp(-(q+2*p)*1j*A) * q\n",
    "        term3 = - np.exp((2*q+p)*1j*A) * p\n",
    "        return 2/s * (term1 + term2 + term3)\n",
    "    else:\n",
    "        return 1/2 * (p*q)*(p+q)\n",
    "\n",
    "def test(arr):\n",
    "    M = jacob(arr)\n",
    "    p1,p2,p3,p4,p5,t1,t2,t3 = arr\n",
    "    #res = M[0,1] * np.conj(M[0,1])\n",
    "    #res = 1\n",
    "    #res = M[0,1] * M[1,2] * M[2,0]\n",
    "    chi1 = char(3,2,M)\n",
    "    chi2 = char(3,2,M)\n",
    "    res = chi1 * np.conj(chi2)\n",
    "    result = res/(2*np.pi**5) * np.sin(p1)**4 * np.sin(p2)**3 * np.sin(p3)**2 * np.sin(p4) * np.sin(t1)**2 * np.sin(t2)\n",
    "    return [np.real(result), np.imag(result)]\n",
    "\n",
    "ls = []\n",
    "for _ in range(2):\n",
    "    ls.append([0,np.pi])\n",
    "ls.append([0,2*np.pi])\n",
    "for _ in range(4):\n",
    "    ls.append([0,np.pi])\n",
    "ls.append([0,2*np.pi])\n",
    "    \n",
    "integ = vegas.Integrator(ls)\n",
    "\n",
    "result = integ(test, nitn=10, neval=1000)\n",
    "print(result.summary())\n",
    "print('result = %s    Q = %.2f' % (result, result.Q))\n",
    "\n",
    "result[0].mean"
   ]
  },
  {
   "cell_type": "code",
   "execution_count": 180,
   "id": "115e5a35",
   "metadata": {},
   "outputs": [],
   "source": [
    "def char(p,q,arr):\n",
    "    M = jacob(arr)\n",
    "    A,B,C = -1j * np.log(np.linalg.eig(M)[0])\n",
    "    s = 8*np.sin(1/2*(A-B))*np.sin(1/2*(A+2*B))*np.sin(1/2*(2*A+B))\n",
    "    return -1j/s * (np.exp(1j*p*A-1j*q*B) - np.exp(-1j*q*A+1j*p*B) + np.exp(-1j*p*(A+B))*(np.exp(-1j*q*A)-np.exp(-1j*q*B)) + np.exp(1j*q*(A+B)*(np.exp(1j*p*B)-np.exp(1j*p*A))))"
   ]
  },
  {
   "cell_type": "code",
   "execution_count": 184,
   "id": "edb4bf34",
   "metadata": {},
   "outputs": [
    {
     "data": {
      "text/plain": [
       "(0.5535504804730775-0.20675064946985974j)"
      ]
     },
     "execution_count": 184,
     "metadata": {},
     "output_type": "execute_result"
    }
   ],
   "source": [
    "char(1,1,[1,1,1,1,1,1,1,1])"
   ]
  },
  {
   "cell_type": "code",
   "execution_count": 197,
   "id": "45514038",
   "metadata": {},
   "outputs": [
    {
     "data": {
      "text/plain": [
       "(7.498798913309288e-33-3.141592653589793j)"
      ]
     },
     "execution_count": 197,
     "metadata": {},
     "output_type": "execute_result"
    }
   ],
   "source": [
    "np.log(np.exp(-1j*np.pi))"
   ]
  },
  {
   "cell_type": "code",
   "execution_count": 217,
   "id": "08556a16",
   "metadata": {},
   "outputs": [
    {
     "data": {
      "text/plain": [
       "(2.96637714392034e-16-6.043410672069982e-17j)"
      ]
     },
     "execution_count": 217,
     "metadata": {},
     "output_type": "execute_result"
    }
   ],
   "source": [
    "t1 = np.random.uniform(0,np.pi)\n",
    "t2 = np.random.uniform(0,np.pi)\n",
    "t3 = np.random.uniform(0,2*np.pi)\n",
    "p1 = np.random.uniform(0,np.pi)\n",
    "p2 = np.random.uniform(0,np.pi)\n",
    "p3 = np.random.uniform(0,np.pi)\n",
    "p4 = np.random.uniform(0,np.pi)\n",
    "p5 = np.random.uniform(0,2*np.pi)\n",
    "\n",
    "arr = jacob([t1,t2,t3,p1,p2,p3,p4,p5])\n",
    "A, B, C = -1j * np.log(np.linalg.eig(arr)[0])\n",
    "A + B + C"
   ]
  },
  {
   "cell_type": "code",
   "execution_count": 8,
   "id": "18000192",
   "metadata": {},
   "outputs": [
    {
     "name": "stdout",
     "output_type": "stream",
     "text": [
      "itn   integral        wgt average     chi2/dof        Q\n",
      "-------------------------------------------------------\n",
      "  1   1.0004(35)      1.0004(35)          0.00     1.00\n",
      "  2   1.0019(33)      1.0012(24)          0.05     0.95\n",
      "  3   1.0023(33)      1.0016(19)          0.04     1.00\n",
      "  4   0.9987(33)      1.0008(17)          0.12     0.99\n",
      "  5   1.0064(33)      1.0020(15)          0.37     0.94\n",
      "  6   0.9943(33)      1.0006(14)          0.75     0.68\n",
      "  7   0.9967(33)      1.0001(13)          0.72     0.73\n",
      "  8   1.0006(33)      1.0001(12)          0.62     0.85\n",
      "  9   1.0017(33)      1.0003(11)          0.56     0.92\n",
      " 10   1.0057(33)      1.0009(11)          0.63     0.88\n",
      "\n",
      "result = [1.0009(11) 0(0)]    Q = 0.88\n"
     ]
    }
   ],
   "source": [
    "def s(A,B):\n",
    "    return 8*np.sin(0.5*(A-B))*np.sin(0.5*(A+2*B))*np.sin(0.5*(2*A+B))\n",
    "\n",
    "def char(p,q,A,B):\n",
    "    if A != B:\n",
    "        s = 8*np.sin(0.5*(A-B))*np.sin(0.5*(A+2*B))*np.sin(0.5*(2*A+B))\n",
    "        term1 = np.exp(1j*p*A-1j*q*B) - np.exp(-1j*q*A+1j*p*B)\n",
    "        term2 = np.exp(-1j*p*(A+B)) * (np.exp(-1j*q*A)-np.exp(-1j*q*B))\n",
    "        term3 = np.exp(1j*q*(A+B)) * (np.exp(1j*p*B)-np.exp(1j*p*A))\n",
    "        return -1j/s * (term1 + term2 + term3)\n",
    "    elif A == B and A != 0:\n",
    "        s = 8 * np.sin(3/2 * A)**2\n",
    "        term1 = np.exp(1j*(p-q)*A) * (p+q)\n",
    "        term2 = - np.exp(-(q+2*p)*1j*A) * q\n",
    "        term3 = - np.exp((2*q+p)*1j*A) * p\n",
    "        return 2/s * (term1 + term2 + term3)\n",
    "    else:\n",
    "        return 1/2 * (p*q)*(p+q)\n",
    "\n",
    "def test(x):\n",
    "    A, B = x\n",
    "    chi1 = char(3,2,A,B)\n",
    "    #chi2 = char(1,2,A,B)\n",
    "    res = chi1 * np.conj(chi1)\n",
    "    result = res * s(A,B)**2 / ((2*np.pi)**2) / 6\n",
    "    return [np.real(result), np.imag(result)]\n",
    "\n",
    "ls = []\n",
    "for _ in range(2):\n",
    "    ls.append([-np.pi,np.pi])\n",
    "    \n",
    "integ = vegas.Integrator(ls)\n",
    "\n",
    "result = integ(test, nitn=10, neval=10000)\n",
    "print(result.summary())\n",
    "print('result = %s    Q = %.2f' % (result, result.Q))"
   ]
  },
  {
   "cell_type": "code",
   "execution_count": 276,
   "id": "2f9b8900",
   "metadata": {},
   "outputs": [
    {
     "data": {
      "text/plain": [
       "(3.0, 3.0)"
      ]
     },
     "execution_count": 276,
     "metadata": {},
     "output_type": "execute_result"
    }
   ],
   "source": [
    "def s(A,B):\n",
    "    return 8*np.sin(0.5*(A-B))*np.sin(0.5*(A+2*B))*np.sin(0.5*(2*A+B))\n",
    "\n",
    "def char(p,q,A,B):\n",
    "    if A != B:\n",
    "        term1 = np.exp(1j*p*A-1j*q*B) - np.exp(-1j*q*A+1j*p*B)\n",
    "        term2 = np.exp(-1j*p*(A+B)) * (np.exp(-1j*q*A)-np.exp(-1j*q*B))\n",
    "        term3 = np.exp(1j*q*(A+B)) * (np.exp(1j*p*B)-np.exp(1j*p*A))\n",
    "        return -1j/s(A,B) * (term1 + term2 + term3)\n",
    "    elif A == B and A != 0:\n",
    "        den = 8 * np.sin(3/2 * A)**2\n",
    "        term1 = np.exp(1j*(p-q)*A) * (p+q)\n",
    "        term2 = - np.exp(-(q+2*p)*1j*A) * q\n",
    "        term3 = - np.exp((2*q+p)*1j*A) * p\n",
    "        return 2/den * (term1 + term2 + term3)\n",
    "    else:\n",
    "        return 1/2 * (p*q)*(p+q)\n",
    "\n",
    "char(2,1,39,40), np.exp(1j*39) + np.exp(1j*40) + np.exp(-1j*(39+40))\n",
    "char(2,1,20,20), np.exp(1j*20) + np.exp(1j*20) + np.exp(-1j*(20+20))\n",
    "char(1,2,0,0), 0.5 * 1 * 2 * (1+2)"
   ]
  },
  {
   "cell_type": "code",
   "execution_count": 5,
   "id": "787843cd",
   "metadata": {},
   "outputs": [],
   "source": [
    "N = 10\n",
    "\n",
    "ls = []\n",
    "for _ in range(2):\n",
    "    ls.append([0,np.pi])\n",
    "ls.append([0,2*np.pi])\n",
    "for _ in range(4):\n",
    "    ls.append([0,np.pi])\n",
    "ls.append([0,2*np.pi])\n",
    "    \n",
    "integ = vegas.Integrator(ls)\n",
    "\n",
    "def char(p,q,M):\n",
    "    A, B, C = -1j * np.log(np.linalg.eig(M)[0])\n",
    "    if A != B:\n",
    "        s = 8*np.sin(0.5*(A-B))*np.sin(0.5*(A+2*B))*np.sin(0.5*(2*A+B))\n",
    "        term1 = np.exp(1j*p*A-1j*q*B) - np.exp(-1j*q*A+1j*p*B)\n",
    "        term2 = np.exp(-1j*p*(A+B)) * (np.exp(-1j*q*A)-np.exp(-1j*q*B))\n",
    "        term3 = np.exp(1j*q*(A+B)) * (np.exp(1j*p*B)-np.exp(1j*p*A))\n",
    "        return -1j/s * (term1 + term2 + term3)\n",
    "    elif A == B and A != 0:\n",
    "        s = 8 * np.sin(3/2 * A)**2\n",
    "        term1 = np.exp(1j*(p-q)*A) * (p+q)\n",
    "        term2 = - np.exp(-(q+2*p)*1j*A) * q\n",
    "        term3 = - np.exp((2*q+p)*1j*A) * p\n",
    "        return 2/s * (term1 + term2 + term3)\n",
    "    else:\n",
    "        return 1/2 * (p*q)*(p+q)\n",
    "\n",
    "def fourier(f,p,q):\n",
    "    def integrand(arr):\n",
    "        M = jacob(arr)\n",
    "        p1,p2,p3,p4,p5,t1,t2,t3 = arr\n",
    "        res = f(arr) * np.conj(char(p,q,M))\n",
    "        result = res/(2*np.pi**5) * np.sin(p1)**4 * np.sin(p2)**3 * np.sin(p3)**2 * np.sin(p4) * np.sin(t1)**2 * np.sin(t2)\n",
    "        return [np.real(result), np.imag(result)]\n",
    "    result = integ(integrand, nitn=1, neval=1000)\n",
    "    return result[0].mean + 1j * result[1].mean\n",
    "\n",
    "def f(arr,param):\n",
    "    U = jacob(arr)\n",
    "    return np.exp(2*param*(np.real(U.trace())-3))\n",
    "\n",
    "fourier_vec = np.vectorize(fourier)\n",
    "\n",
    "def Z(param):\n",
    "    s = 0\n",
    "    p = np.arange(1,5)\n",
    "    q = np.arange(1,5)\n",
    "    P,Q = np.meshgrid(p,q)\n",
    "    d = 1/2 * P * Q * (P + Q)\n",
    "    arr = (1/d * fourier_vec(lambda arr:f(arr,param),P,Q))**(N**2)\n",
    "    return np.real(np.sum(arr))"
   ]
  },
  {
   "cell_type": "code",
   "execution_count": 7,
   "id": "e173c4f5",
   "metadata": {},
   "outputs": [
    {
     "ename": "NameError",
     "evalue": "name 'jacob' is not defined",
     "output_type": "error",
     "traceback": [
      "\u001b[0;31m---------------------------------------------------------------------------\u001b[0m",
      "\u001b[0;31mNameError\u001b[0m                                 Traceback (most recent call last)",
      "Cell \u001b[0;32mIn[7], line 5\u001b[0m\n\u001b[1;32m      1\u001b[0m \u001b[38;5;66;03m#fourier(lambda arr:f(arr,1),1,1)\u001b[39;00m\n\u001b[1;32m      2\u001b[0m \u001b[38;5;66;03m#Z([0.1,0.2])\u001b[39;00m\n\u001b[1;32m      3\u001b[0m \u001b[38;5;66;03m#f([1,1,1,1,1,1,1,1],np.array([1,1,1]))\u001b[39;00m\n\u001b[0;32m----> 5\u001b[0m \u001b[43mZ\u001b[49m\u001b[43m(\u001b[49m\u001b[43m[\u001b[49m\u001b[38;5;241;43m0.1\u001b[39;49m\u001b[43m,\u001b[49m\u001b[38;5;241;43m1\u001b[39;49m\u001b[43m]\u001b[49m\u001b[43m)\u001b[49m\n",
      "Cell \u001b[0;32mIn[5], line 52\u001b[0m, in \u001b[0;36mZ\u001b[0;34m(param)\u001b[0m\n\u001b[1;32m     50\u001b[0m P,Q \u001b[38;5;241m=\u001b[39m np\u001b[38;5;241m.\u001b[39mmeshgrid(p,q)\n\u001b[1;32m     51\u001b[0m d \u001b[38;5;241m=\u001b[39m \u001b[38;5;241m1\u001b[39m\u001b[38;5;241m/\u001b[39m\u001b[38;5;241m2\u001b[39m \u001b[38;5;241m*\u001b[39m P \u001b[38;5;241m*\u001b[39m Q \u001b[38;5;241m*\u001b[39m (P \u001b[38;5;241m+\u001b[39m Q)\n\u001b[0;32m---> 52\u001b[0m arr \u001b[38;5;241m=\u001b[39m (\u001b[38;5;241m1\u001b[39m\u001b[38;5;241m/\u001b[39md \u001b[38;5;241m*\u001b[39m \u001b[43mfourier_vec\u001b[49m\u001b[43m(\u001b[49m\u001b[38;5;28;43;01mlambda\u001b[39;49;00m\u001b[43m \u001b[49m\u001b[43marr\u001b[49m\u001b[43m:\u001b[49m\u001b[43mf\u001b[49m\u001b[43m(\u001b[49m\u001b[43marr\u001b[49m\u001b[43m,\u001b[49m\u001b[43mparam\u001b[49m\u001b[43m)\u001b[49m\u001b[43m,\u001b[49m\u001b[43mP\u001b[49m\u001b[43m,\u001b[49m\u001b[43mQ\u001b[49m\u001b[43m)\u001b[49m)\u001b[38;5;241m*\u001b[39m\u001b[38;5;241m*\u001b[39m(N\u001b[38;5;241m*\u001b[39m\u001b[38;5;241m*\u001b[39m\u001b[38;5;241m2\u001b[39m)\n\u001b[1;32m     53\u001b[0m \u001b[38;5;28;01mreturn\u001b[39;00m np\u001b[38;5;241m.\u001b[39mreal(np\u001b[38;5;241m.\u001b[39msum(arr))\n",
      "File \u001b[0;32m~/opt/miniconda3/lib/python3.9/site-packages/numpy/lib/function_base.py:2329\u001b[0m, in \u001b[0;36mvectorize.__call__\u001b[0;34m(self, *args, **kwargs)\u001b[0m\n\u001b[1;32m   2326\u001b[0m     vargs \u001b[38;5;241m=\u001b[39m [args[_i] \u001b[38;5;28;01mfor\u001b[39;00m _i \u001b[38;5;129;01min\u001b[39;00m inds]\n\u001b[1;32m   2327\u001b[0m     vargs\u001b[38;5;241m.\u001b[39mextend([kwargs[_n] \u001b[38;5;28;01mfor\u001b[39;00m _n \u001b[38;5;129;01min\u001b[39;00m names])\n\u001b[0;32m-> 2329\u001b[0m \u001b[38;5;28;01mreturn\u001b[39;00m \u001b[38;5;28;43mself\u001b[39;49m\u001b[38;5;241;43m.\u001b[39;49m\u001b[43m_vectorize_call\u001b[49m\u001b[43m(\u001b[49m\u001b[43mfunc\u001b[49m\u001b[38;5;241;43m=\u001b[39;49m\u001b[43mfunc\u001b[49m\u001b[43m,\u001b[49m\u001b[43m \u001b[49m\u001b[43margs\u001b[49m\u001b[38;5;241;43m=\u001b[39;49m\u001b[43mvargs\u001b[49m\u001b[43m)\u001b[49m\n",
      "File \u001b[0;32m~/opt/miniconda3/lib/python3.9/site-packages/numpy/lib/function_base.py:2407\u001b[0m, in \u001b[0;36mvectorize._vectorize_call\u001b[0;34m(self, func, args)\u001b[0m\n\u001b[1;32m   2405\u001b[0m     res \u001b[38;5;241m=\u001b[39m func()\n\u001b[1;32m   2406\u001b[0m \u001b[38;5;28;01melse\u001b[39;00m:\n\u001b[0;32m-> 2407\u001b[0m     ufunc, otypes \u001b[38;5;241m=\u001b[39m \u001b[38;5;28;43mself\u001b[39;49m\u001b[38;5;241;43m.\u001b[39;49m\u001b[43m_get_ufunc_and_otypes\u001b[49m\u001b[43m(\u001b[49m\u001b[43mfunc\u001b[49m\u001b[38;5;241;43m=\u001b[39;49m\u001b[43mfunc\u001b[49m\u001b[43m,\u001b[49m\u001b[43m \u001b[49m\u001b[43margs\u001b[49m\u001b[38;5;241;43m=\u001b[39;49m\u001b[43margs\u001b[49m\u001b[43m)\u001b[49m\n\u001b[1;32m   2409\u001b[0m     \u001b[38;5;66;03m# Convert args to object arrays first\u001b[39;00m\n\u001b[1;32m   2410\u001b[0m     inputs \u001b[38;5;241m=\u001b[39m [asanyarray(a, dtype\u001b[38;5;241m=\u001b[39m\u001b[38;5;28mobject\u001b[39m) \u001b[38;5;28;01mfor\u001b[39;00m a \u001b[38;5;129;01min\u001b[39;00m args]\n",
      "File \u001b[0;32m~/opt/miniconda3/lib/python3.9/site-packages/numpy/lib/function_base.py:2367\u001b[0m, in \u001b[0;36mvectorize._get_ufunc_and_otypes\u001b[0;34m(self, func, args)\u001b[0m\n\u001b[1;32m   2363\u001b[0m     \u001b[38;5;28;01mraise\u001b[39;00m \u001b[38;5;167;01mValueError\u001b[39;00m(\u001b[38;5;124m'\u001b[39m\u001b[38;5;124mcannot call `vectorize` on size 0 inputs \u001b[39m\u001b[38;5;124m'\u001b[39m\n\u001b[1;32m   2364\u001b[0m                      \u001b[38;5;124m'\u001b[39m\u001b[38;5;124munless `otypes` is set\u001b[39m\u001b[38;5;124m'\u001b[39m)\n\u001b[1;32m   2366\u001b[0m inputs \u001b[38;5;241m=\u001b[39m [arg\u001b[38;5;241m.\u001b[39mflat[\u001b[38;5;241m0\u001b[39m] \u001b[38;5;28;01mfor\u001b[39;00m arg \u001b[38;5;129;01min\u001b[39;00m args]\n\u001b[0;32m-> 2367\u001b[0m outputs \u001b[38;5;241m=\u001b[39m \u001b[43mfunc\u001b[49m\u001b[43m(\u001b[49m\u001b[38;5;241;43m*\u001b[39;49m\u001b[43minputs\u001b[49m\u001b[43m)\u001b[49m\n\u001b[1;32m   2369\u001b[0m \u001b[38;5;66;03m# Performance note: profiling indicates that -- for simple\u001b[39;00m\n\u001b[1;32m   2370\u001b[0m \u001b[38;5;66;03m# functions at least -- this wrapping can almost double the\u001b[39;00m\n\u001b[1;32m   2371\u001b[0m \u001b[38;5;66;03m# execution time.\u001b[39;00m\n\u001b[1;32m   2372\u001b[0m \u001b[38;5;66;03m# Hence we make it optional.\u001b[39;00m\n\u001b[1;32m   2373\u001b[0m \u001b[38;5;28;01mif\u001b[39;00m \u001b[38;5;28mself\u001b[39m\u001b[38;5;241m.\u001b[39mcache:\n",
      "Cell \u001b[0;32mIn[5], line 37\u001b[0m, in \u001b[0;36mfourier\u001b[0;34m(f, p, q)\u001b[0m\n\u001b[1;32m     35\u001b[0m     result \u001b[38;5;241m=\u001b[39m res\u001b[38;5;241m/\u001b[39m(\u001b[38;5;241m2\u001b[39m\u001b[38;5;241m*\u001b[39mnp\u001b[38;5;241m.\u001b[39mpi\u001b[38;5;241m*\u001b[39m\u001b[38;5;241m*\u001b[39m\u001b[38;5;241m5\u001b[39m) \u001b[38;5;241m*\u001b[39m np\u001b[38;5;241m.\u001b[39msin(p1)\u001b[38;5;241m*\u001b[39m\u001b[38;5;241m*\u001b[39m\u001b[38;5;241m4\u001b[39m \u001b[38;5;241m*\u001b[39m np\u001b[38;5;241m.\u001b[39msin(p2)\u001b[38;5;241m*\u001b[39m\u001b[38;5;241m*\u001b[39m\u001b[38;5;241m3\u001b[39m \u001b[38;5;241m*\u001b[39m np\u001b[38;5;241m.\u001b[39msin(p3)\u001b[38;5;241m*\u001b[39m\u001b[38;5;241m*\u001b[39m\u001b[38;5;241m2\u001b[39m \u001b[38;5;241m*\u001b[39m np\u001b[38;5;241m.\u001b[39msin(p4) \u001b[38;5;241m*\u001b[39m np\u001b[38;5;241m.\u001b[39msin(t1)\u001b[38;5;241m*\u001b[39m\u001b[38;5;241m*\u001b[39m\u001b[38;5;241m2\u001b[39m \u001b[38;5;241m*\u001b[39m np\u001b[38;5;241m.\u001b[39msin(t2)\n\u001b[1;32m     36\u001b[0m     \u001b[38;5;28;01mreturn\u001b[39;00m [np\u001b[38;5;241m.\u001b[39mreal(result), np\u001b[38;5;241m.\u001b[39mimag(result)]\n\u001b[0;32m---> 37\u001b[0m result \u001b[38;5;241m=\u001b[39m \u001b[43minteg\u001b[49m\u001b[43m(\u001b[49m\u001b[43mintegrand\u001b[49m\u001b[43m,\u001b[49m\u001b[43m \u001b[49m\u001b[43mnitn\u001b[49m\u001b[38;5;241;43m=\u001b[39;49m\u001b[38;5;241;43m1\u001b[39;49m\u001b[43m,\u001b[49m\u001b[43m \u001b[49m\u001b[43mneval\u001b[49m\u001b[38;5;241;43m=\u001b[39;49m\u001b[38;5;241;43m1000\u001b[39;49m\u001b[43m)\u001b[49m\n\u001b[1;32m     38\u001b[0m \u001b[38;5;28;01mreturn\u001b[39;00m result[\u001b[38;5;241m0\u001b[39m]\u001b[38;5;241m.\u001b[39mmean \u001b[38;5;241m+\u001b[39m \u001b[38;5;241m1\u001b[39mj \u001b[38;5;241m*\u001b[39m result[\u001b[38;5;241m1\u001b[39m]\u001b[38;5;241m.\u001b[39mmean\n",
      "File \u001b[0;32msrc/vegas/_vegas.pyx:1803\u001b[0m, in \u001b[0;36mvegas._vegas.Integrator.__call__\u001b[0;34m()\u001b[0m\n",
      "File \u001b[0;32msrc/vegas/_vegas.pyx:2693\u001b[0m, in \u001b[0;36mvegas._vegas.VegasIntegrand.__init__\u001b[0;34m()\u001b[0m\n",
      "Cell \u001b[0;32mIn[5], line 32\u001b[0m, in \u001b[0;36mfourier.<locals>.integrand\u001b[0;34m(arr)\u001b[0m\n\u001b[1;32m     31\u001b[0m \u001b[38;5;28;01mdef\u001b[39;00m \u001b[38;5;21mintegrand\u001b[39m(arr):\n\u001b[0;32m---> 32\u001b[0m     M \u001b[38;5;241m=\u001b[39m \u001b[43mjacob\u001b[49m(arr)\n\u001b[1;32m     33\u001b[0m     p1,p2,p3,p4,p5,t1,t2,t3 \u001b[38;5;241m=\u001b[39m arr\n\u001b[1;32m     34\u001b[0m     res \u001b[38;5;241m=\u001b[39m f(arr) \u001b[38;5;241m*\u001b[39m np\u001b[38;5;241m.\u001b[39mconj(char(p,q,M))\n",
      "\u001b[0;31mNameError\u001b[0m: name 'jacob' is not defined"
     ]
    }
   ],
   "source": [
    "#fourier(lambda arr:f(arr,1),1,1)\n",
    "#Z([0.1,0.2])\n",
    "#f([1,1,1,1,1,1,1,1],np.array([1,1,1]))\n",
    "\n",
    "Z([0.1,1])"
   ]
  },
  {
   "cell_type": "code",
   "execution_count": 335,
   "id": "290a6605",
   "metadata": {},
   "outputs": [
    {
     "data": {
      "text/plain": [
       "(3.10776573325541e-46+6.314982459692266e-61j)"
      ]
     },
     "execution_count": 335,
     "metadata": {},
     "output_type": "execute_result"
    }
   ],
   "source": [
    "Z_normal(0.1)"
   ]
  },
  {
   "cell_type": "code",
   "execution_count": 343,
   "id": "529481d5",
   "metadata": {},
   "outputs": [
    {
     "data": {
      "text/plain": [
       "array([9.92702389e-026, 1.21311753e-116, 6.06112518e-209])"
      ]
     },
     "execution_count": 343,
     "metadata": {},
     "output_type": "execute_result"
    }
   ],
   "source": [
    "Z_vec([0.1,0.5,1])"
   ]
  },
  {
   "cell_type": "code",
   "execution_count": 344,
   "id": "51f16f7a",
   "metadata": {},
   "outputs": [
    {
     "ename": "KeyboardInterrupt",
     "evalue": "",
     "output_type": "error",
     "traceback": [
      "\u001b[0;31m---------------------------------------------------------------------------\u001b[0m",
      "\u001b[0;31mKeyboardInterrupt\u001b[0m                         Traceback (most recent call last)",
      "Cell \u001b[0;32mIn[344], line 2\u001b[0m\n\u001b[1;32m      1\u001b[0m betas \u001b[38;5;241m=\u001b[39m np\u001b[38;5;241m.\u001b[39mlinspace(\u001b[38;5;241m0\u001b[39m,\u001b[38;5;241m4\u001b[39m,\u001b[38;5;241m100\u001b[39m)\n\u001b[0;32m----> 2\u001b[0m Z_ls \u001b[38;5;241m=\u001b[39m \u001b[43mZ_vec\u001b[49m\u001b[43m(\u001b[49m\u001b[43mbetas\u001b[49m\u001b[43m)\u001b[49m\n",
      "File \u001b[0;32m~/miniconda3/lib/python3.10/site-packages/numpy/lib/function_base.py:2329\u001b[0m, in \u001b[0;36mvectorize.__call__\u001b[0;34m(self, *args, **kwargs)\u001b[0m\n\u001b[1;32m   2326\u001b[0m     vargs \u001b[38;5;241m=\u001b[39m [args[_i] \u001b[38;5;28;01mfor\u001b[39;00m _i \u001b[38;5;129;01min\u001b[39;00m inds]\n\u001b[1;32m   2327\u001b[0m     vargs\u001b[38;5;241m.\u001b[39mextend([kwargs[_n] \u001b[38;5;28;01mfor\u001b[39;00m _n \u001b[38;5;129;01min\u001b[39;00m names])\n\u001b[0;32m-> 2329\u001b[0m \u001b[38;5;28;01mreturn\u001b[39;00m \u001b[38;5;28;43mself\u001b[39;49m\u001b[38;5;241;43m.\u001b[39;49m\u001b[43m_vectorize_call\u001b[49m\u001b[43m(\u001b[49m\u001b[43mfunc\u001b[49m\u001b[38;5;241;43m=\u001b[39;49m\u001b[43mfunc\u001b[49m\u001b[43m,\u001b[49m\u001b[43m \u001b[49m\u001b[43margs\u001b[49m\u001b[38;5;241;43m=\u001b[39;49m\u001b[43mvargs\u001b[49m\u001b[43m)\u001b[49m\n",
      "File \u001b[0;32m~/miniconda3/lib/python3.10/site-packages/numpy/lib/function_base.py:2412\u001b[0m, in \u001b[0;36mvectorize._vectorize_call\u001b[0;34m(self, func, args)\u001b[0m\n\u001b[1;32m   2409\u001b[0m \u001b[38;5;66;03m# Convert args to object arrays first\u001b[39;00m\n\u001b[1;32m   2410\u001b[0m inputs \u001b[38;5;241m=\u001b[39m [asanyarray(a, dtype\u001b[38;5;241m=\u001b[39m\u001b[38;5;28mobject\u001b[39m) \u001b[38;5;28;01mfor\u001b[39;00m a \u001b[38;5;129;01min\u001b[39;00m args]\n\u001b[0;32m-> 2412\u001b[0m outputs \u001b[38;5;241m=\u001b[39m \u001b[43mufunc\u001b[49m\u001b[43m(\u001b[49m\u001b[38;5;241;43m*\u001b[39;49m\u001b[43minputs\u001b[49m\u001b[43m)\u001b[49m\n\u001b[1;32m   2414\u001b[0m \u001b[38;5;28;01mif\u001b[39;00m ufunc\u001b[38;5;241m.\u001b[39mnout \u001b[38;5;241m==\u001b[39m \u001b[38;5;241m1\u001b[39m:\n\u001b[1;32m   2415\u001b[0m     res \u001b[38;5;241m=\u001b[39m asanyarray(outputs, dtype\u001b[38;5;241m=\u001b[39motypes[\u001b[38;5;241m0\u001b[39m])\n",
      "Cell \u001b[0;32mIn[341], line 60\u001b[0m, in \u001b[0;36mZ\u001b[0;34m(param)\u001b[0m\n\u001b[1;32m     58\u001b[0m P,Q \u001b[38;5;241m=\u001b[39m np\u001b[38;5;241m.\u001b[39mmeshgrid(p,q)\n\u001b[1;32m     59\u001b[0m d \u001b[38;5;241m=\u001b[39m \u001b[38;5;241m1\u001b[39m\u001b[38;5;241m/\u001b[39m\u001b[38;5;241m2\u001b[39m \u001b[38;5;241m*\u001b[39m P \u001b[38;5;241m*\u001b[39m Q \u001b[38;5;241m*\u001b[39m (P \u001b[38;5;241m+\u001b[39m Q)\n\u001b[0;32m---> 60\u001b[0m arr \u001b[38;5;241m=\u001b[39m (\u001b[38;5;241m1\u001b[39m\u001b[38;5;241m/\u001b[39md \u001b[38;5;241m*\u001b[39m \u001b[43mfourier_vec\u001b[49m\u001b[43m(\u001b[49m\u001b[38;5;28;43;01mlambda\u001b[39;49;00m\u001b[43m \u001b[49m\u001b[43mU\u001b[49m\u001b[43m:\u001b[49m\u001b[43mf\u001b[49m\u001b[43m(\u001b[49m\u001b[43mU\u001b[49m\u001b[43m,\u001b[49m\u001b[43mparam\u001b[49m\u001b[43m)\u001b[49m\u001b[43m,\u001b[49m\u001b[43mP\u001b[49m\u001b[43m,\u001b[49m\u001b[43mQ\u001b[49m\u001b[43m)\u001b[49m)\u001b[38;5;241m*\u001b[39m\u001b[38;5;241m*\u001b[39m(N\u001b[38;5;241m*\u001b[39m\u001b[38;5;241m*\u001b[39m\u001b[38;5;241m2\u001b[39m)\n\u001b[1;32m     61\u001b[0m \u001b[38;5;28;01mreturn\u001b[39;00m np\u001b[38;5;241m.\u001b[39mreal(np\u001b[38;5;241m.\u001b[39msum(arr))\n",
      "File \u001b[0;32m~/miniconda3/lib/python3.10/site-packages/numpy/lib/function_base.py:2329\u001b[0m, in \u001b[0;36mvectorize.__call__\u001b[0;34m(self, *args, **kwargs)\u001b[0m\n\u001b[1;32m   2326\u001b[0m     vargs \u001b[38;5;241m=\u001b[39m [args[_i] \u001b[38;5;28;01mfor\u001b[39;00m _i \u001b[38;5;129;01min\u001b[39;00m inds]\n\u001b[1;32m   2327\u001b[0m     vargs\u001b[38;5;241m.\u001b[39mextend([kwargs[_n] \u001b[38;5;28;01mfor\u001b[39;00m _n \u001b[38;5;129;01min\u001b[39;00m names])\n\u001b[0;32m-> 2329\u001b[0m \u001b[38;5;28;01mreturn\u001b[39;00m \u001b[38;5;28;43mself\u001b[39;49m\u001b[38;5;241;43m.\u001b[39;49m\u001b[43m_vectorize_call\u001b[49m\u001b[43m(\u001b[49m\u001b[43mfunc\u001b[49m\u001b[38;5;241;43m=\u001b[39;49m\u001b[43mfunc\u001b[49m\u001b[43m,\u001b[49m\u001b[43m \u001b[49m\u001b[43margs\u001b[49m\u001b[38;5;241;43m=\u001b[39;49m\u001b[43mvargs\u001b[49m\u001b[43m)\u001b[49m\n",
      "File \u001b[0;32m~/miniconda3/lib/python3.10/site-packages/numpy/lib/function_base.py:2412\u001b[0m, in \u001b[0;36mvectorize._vectorize_call\u001b[0;34m(self, func, args)\u001b[0m\n\u001b[1;32m   2409\u001b[0m \u001b[38;5;66;03m# Convert args to object arrays first\u001b[39;00m\n\u001b[1;32m   2410\u001b[0m inputs \u001b[38;5;241m=\u001b[39m [asanyarray(a, dtype\u001b[38;5;241m=\u001b[39m\u001b[38;5;28mobject\u001b[39m) \u001b[38;5;28;01mfor\u001b[39;00m a \u001b[38;5;129;01min\u001b[39;00m args]\n\u001b[0;32m-> 2412\u001b[0m outputs \u001b[38;5;241m=\u001b[39m \u001b[43mufunc\u001b[49m\u001b[43m(\u001b[49m\u001b[38;5;241;43m*\u001b[39;49m\u001b[43minputs\u001b[49m\u001b[43m)\u001b[49m\n\u001b[1;32m   2414\u001b[0m \u001b[38;5;28;01mif\u001b[39;00m ufunc\u001b[38;5;241m.\u001b[39mnout \u001b[38;5;241m==\u001b[39m \u001b[38;5;241m1\u001b[39m:\n\u001b[1;32m   2415\u001b[0m     res \u001b[38;5;241m=\u001b[39m asanyarray(outputs, dtype\u001b[38;5;241m=\u001b[39motypes[\u001b[38;5;241m0\u001b[39m])\n",
      "Cell \u001b[0;32mIn[341], line 37\u001b[0m, in \u001b[0;36mfourier\u001b[0;34m(f, p, q)\u001b[0m\n\u001b[1;32m     35\u001b[0m     result \u001b[38;5;241m=\u001b[39m res\u001b[38;5;241m/\u001b[39m(\u001b[38;5;241m2\u001b[39m\u001b[38;5;241m*\u001b[39mnp\u001b[38;5;241m.\u001b[39mpi\u001b[38;5;241m*\u001b[39m\u001b[38;5;241m*\u001b[39m\u001b[38;5;241m5\u001b[39m) \u001b[38;5;241m*\u001b[39m np\u001b[38;5;241m.\u001b[39msin(p1)\u001b[38;5;241m*\u001b[39m\u001b[38;5;241m*\u001b[39m\u001b[38;5;241m4\u001b[39m \u001b[38;5;241m*\u001b[39m np\u001b[38;5;241m.\u001b[39msin(p2)\u001b[38;5;241m*\u001b[39m\u001b[38;5;241m*\u001b[39m\u001b[38;5;241m3\u001b[39m \u001b[38;5;241m*\u001b[39m np\u001b[38;5;241m.\u001b[39msin(p3)\u001b[38;5;241m*\u001b[39m\u001b[38;5;241m*\u001b[39m\u001b[38;5;241m2\u001b[39m \u001b[38;5;241m*\u001b[39m np\u001b[38;5;241m.\u001b[39msin(p4) \u001b[38;5;241m*\u001b[39m np\u001b[38;5;241m.\u001b[39msin(t1)\u001b[38;5;241m*\u001b[39m\u001b[38;5;241m*\u001b[39m\u001b[38;5;241m2\u001b[39m \u001b[38;5;241m*\u001b[39m np\u001b[38;5;241m.\u001b[39msin(t2)\n\u001b[1;32m     36\u001b[0m     \u001b[38;5;28;01mreturn\u001b[39;00m [np\u001b[38;5;241m.\u001b[39mreal(result), np\u001b[38;5;241m.\u001b[39mimag(result)]\n\u001b[0;32m---> 37\u001b[0m result \u001b[38;5;241m=\u001b[39m \u001b[43minteg\u001b[49m\u001b[43m(\u001b[49m\u001b[43mintegrand\u001b[49m\u001b[43m,\u001b[49m\u001b[43m \u001b[49m\u001b[43mnitn\u001b[49m\u001b[38;5;241;43m=\u001b[39;49m\u001b[38;5;241;43m1\u001b[39;49m\u001b[43m,\u001b[49m\u001b[43m \u001b[49m\u001b[43mneval\u001b[49m\u001b[38;5;241;43m=\u001b[39;49m\u001b[38;5;241;43m1000\u001b[39;49m\u001b[43m)\u001b[49m\n\u001b[1;32m     38\u001b[0m \u001b[38;5;28;01mreturn\u001b[39;00m result[\u001b[38;5;241m0\u001b[39m]\u001b[38;5;241m.\u001b[39mmean \u001b[38;5;241m+\u001b[39m \u001b[38;5;241m1\u001b[39mj \u001b[38;5;241m*\u001b[39m result[\u001b[38;5;241m1\u001b[39m]\u001b[38;5;241m.\u001b[39mmean\n",
      "File \u001b[0;32msrc/vegas/_vegas.pyx:1856\u001b[0m, in \u001b[0;36mvegas._vegas.Integrator.__call__\u001b[0;34m()\u001b[0m\n",
      "File \u001b[0;32msrc/vegas/_vegas.pyx:2806\u001b[0m, in \u001b[0;36mvegas._vegas._BatchIntegrand_from_NonBatch.__call__\u001b[0;34m()\u001b[0m\n",
      "Cell \u001b[0;32mIn[341], line 32\u001b[0m, in \u001b[0;36mfourier.<locals>.integrand\u001b[0;34m(arr)\u001b[0m\n\u001b[1;32m     31\u001b[0m \u001b[38;5;28;01mdef\u001b[39;00m \u001b[38;5;21mintegrand\u001b[39m(arr):\n\u001b[0;32m---> 32\u001b[0m     M \u001b[38;5;241m=\u001b[39m \u001b[43mjacob\u001b[49m\u001b[43m(\u001b[49m\u001b[43marr\u001b[49m\u001b[43m)\u001b[49m\n\u001b[1;32m     33\u001b[0m     p1,p2,p3,p4,p5,t1,t2,t3 \u001b[38;5;241m=\u001b[39m arr\n\u001b[1;32m     34\u001b[0m     res \u001b[38;5;241m=\u001b[39m f(arr) \u001b[38;5;241m*\u001b[39m np\u001b[38;5;241m.\u001b[39mconj(char(p,q,M))\n",
      "Cell \u001b[0;32mIn[309], line 83\u001b[0m, in \u001b[0;36mjacob\u001b[0;34m(arr)\u001b[0m\n\u001b[1;32m     81\u001b[0m p1,p2,p3,p4,p5,t1,t2,t3 \u001b[38;5;241m=\u001b[39m arr\n\u001b[1;32m     82\u001b[0m arg0, arg1, arg2, arg3, arg4, arg5, arg6, arg7, arg8, arg9 \u001b[38;5;241m=\u001b[39m diffeo(p1,p2,p3,p4,p5,t1,t2,t3)\n\u001b[0;32m---> 83\u001b[0m integrand \u001b[38;5;241m=\u001b[39m \u001b[43mPhi3\u001b[49m\u001b[43m(\u001b[49m\u001b[43marg0\u001b[49m\u001b[43m,\u001b[49m\u001b[43m \u001b[49m\u001b[43marg1\u001b[49m\u001b[43m,\u001b[49m\u001b[43m \u001b[49m\u001b[43marg2\u001b[49m\u001b[43m,\u001b[49m\u001b[43m \u001b[49m\u001b[43marg3\u001b[49m\u001b[43m,\u001b[49m\u001b[43m \u001b[49m\u001b[43marg4\u001b[49m\u001b[43m,\u001b[49m\u001b[43m \u001b[49m\u001b[43marg5\u001b[49m\u001b[43m,\u001b[49m\u001b[43m \u001b[49m\u001b[43marg6\u001b[49m\u001b[43m,\u001b[49m\u001b[43m \u001b[49m\u001b[43marg7\u001b[49m\u001b[43m,\u001b[49m\u001b[43m \u001b[49m\u001b[43marg8\u001b[49m\u001b[43m,\u001b[49m\u001b[43m \u001b[49m\u001b[43marg9\u001b[49m\u001b[43m)\u001b[49m\n\u001b[1;32m     84\u001b[0m \u001b[38;5;28;01mreturn\u001b[39;00m integrand\n",
      "Cell \u001b[0;32mIn[309], line 54\u001b[0m, in \u001b[0;36mPhi3\u001b[0;34m(x1, x2, x3, x4, x5, x6, x, y, z, t)\u001b[0m\n\u001b[1;32m     52\u001b[0m alpha1, alpha2, alpha3, phi1, phi2 \u001b[38;5;241m=\u001b[39m Phi1_inv(x1, x2, x3, x4, x5, x6)\n\u001b[1;32m     53\u001b[0m U \u001b[38;5;241m=\u001b[39m Phi(x, y, z, t)\n\u001b[0;32m---> 54\u001b[0m \u001b[38;5;28;01mreturn\u001b[39;00m \u001b[43mPhi2\u001b[49m\u001b[43m(\u001b[49m\u001b[43malpha1\u001b[49m\u001b[43m,\u001b[49m\u001b[43m \u001b[49m\u001b[43malpha2\u001b[49m\u001b[43m,\u001b[49m\u001b[43m \u001b[49m\u001b[43malpha3\u001b[49m\u001b[43m,\u001b[49m\u001b[43m \u001b[49m\u001b[43mphi1\u001b[49m\u001b[43m,\u001b[49m\u001b[43m \u001b[49m\u001b[43mphi2\u001b[49m\u001b[43m,\u001b[49m\u001b[43m \u001b[49m\u001b[43mU\u001b[49m\u001b[43m)\u001b[49m\n",
      "Cell \u001b[0;32mIn[309], line 48\u001b[0m, in \u001b[0;36mPhi2\u001b[0;34m(alpha1, alpha2, alpha3, phi1, phi2, U)\u001b[0m\n\u001b[1;32m     46\u001b[0m arr1[:\u001b[38;5;241m2\u001b[39m,:\u001b[38;5;241m2\u001b[39m] \u001b[38;5;241m=\u001b[39m U\n\u001b[1;32m     47\u001b[0m arr1[\u001b[38;5;241m2\u001b[39m,\u001b[38;5;241m2\u001b[39m] \u001b[38;5;241m=\u001b[39m \u001b[38;5;241m1\u001b[39m\n\u001b[0;32m---> 48\u001b[0m \u001b[38;5;28;01mreturn\u001b[39;00m \u001b[43marr0\u001b[49m\u001b[38;5;241;43m.\u001b[39;49m\u001b[43mdot\u001b[49m\u001b[43m(\u001b[49m\u001b[43marr1\u001b[49m\u001b[43m)\u001b[49m\n",
      "\u001b[0;31mKeyboardInterrupt\u001b[0m: "
     ]
    }
   ],
   "source": [
    "betas = np.linspace(0,4,100)\n",
    "Z_ls = Z_vec(betas)"
   ]
  },
  {
   "cell_type": "code",
   "execution_count": null,
   "id": "c9c001c1",
   "metadata": {},
   "outputs": [],
   "source": [
    "import matplotlib.pyplot as plt\n",
    "\n",
    "plt.plot(betas[1::],-np.diff(np.log(Z_ls))/np.diff(betas))"
   ]
  },
  {
   "cell_type": "code",
   "execution_count": 378,
   "id": "77207b25",
   "metadata": {},
   "outputs": [],
   "source": [
    "import numpy as np\n",
    "import vegas\n",
    "\n",
    "N = 10\n",
    "\n",
    "ls = [[0, np.pi]] * 2 + [[0, 2 * np.pi]] + [[0, np.pi]] * 4 + [[0, 2 * np.pi]]\n",
    "integ = vegas.Integrator(ls)\n",
    "\n",
    "\n",
    "def char(p, q, M):\n",
    "    A, B, C = -1j * np.log(np.linalg.eig(M)[0])\n",
    "    not_equal = np.not_equal(A, B)\n",
    "    equal = np.logical_and(np.equal(A, B), np.not_equal(A, 0))\n",
    "\n",
    "    s = np.where(not_equal,\n",
    "                 8 * np.sin(0.5 * (A - B)) * np.sin(0.5 * (A + 2 * B)) * np.sin(0.5 * (2 * A + B)),\n",
    "                 np.where(equal,\n",
    "                          8 * np.sin(3 / 2 * A) ** 2,\n",
    "                          1))\n",
    "\n",
    "    term1 = np.exp(1j * p * A - 1j * q * B) - np.exp(-1j * q * A + 1j * p * B)\n",
    "    term2 = np.exp(-1j * p * (A + B)) * (np.exp(-1j * q * A) - np.exp(-1j * q * B))\n",
    "    term3 = np.exp(1j * q * (A + B)) * (np.exp(1j * p * B) - np.exp(1j * p * A))\n",
    "\n",
    "    result = np.where(not_equal, -1j / s * (term1 + term2 + term3),\n",
    "                      np.where(equal, 2 / s * (term1 + term2 + term3),\n",
    "                               np.zeros_like(A)))\n",
    "\n",
    "    return result\n",
    "\n",
    "\n",
    "def fourier(f, p, q):\n",
    "    def integrand(arr):\n",
    "        M = jacob(arr)\n",
    "        p1, p2, p3, p4, p5, t1, t2, t3 = arr\n",
    "        res = f(arr) * np.conj(char(p, q, M))\n",
    "        result = res / (2 * np.pi ** 5) * np.sin(p1) ** 4 * np.sin(p2) ** 3 * np.sin(p3) ** 2 * np.sin(p4) * np.sin(\n",
    "            t1) ** 2 * np.sin(t2)\n",
    "        return [np.real(result), np.imag(result)]\n",
    "\n",
    "    result = integ(integrand, nitn=1, neval=1000)\n",
    "    return result[0].mean + 1j * result[1].mean\n",
    "\n",
    "\n",
    "def f(arr, param):\n",
    "    U = jacob(arr)\n",
    "    return np.exp(2 * param * (np.real(U.trace()) - 3))\n",
    "\n",
    "\n",
    "fourier_vec = np.vectorize(fourier)\n",
    "\n",
    "\n",
    "def Z(param):\n",
    "    s = 0\n",
    "    p = np.arange(1, 5)\n",
    "    q = np.arange(1, 5)\n",
    "    P, Q = np.meshgrid(p, q)\n",
    "    d = 1 / 2 * P * Q * (P + Q)\n",
    "\n",
    "    arr = (1 / d * fourier_vec(lambda arr: f(arr, param), P, Q)) ** (N ** 2)\n",
    "    return np.real(np.sum(arr))"
   ]
  },
  {
   "cell_type": "code",
   "execution_count": 380,
   "id": "6f3f29d7",
   "metadata": {},
   "outputs": [
    {
     "ename": "TypeError",
     "evalue": "can't multiply sequence by non-int of type 'numpy.float64'",
     "output_type": "error",
     "traceback": [
      "\u001b[0;31m---------------------------------------------------------------------------\u001b[0m",
      "\u001b[0;31mTypeError\u001b[0m                                 Traceback (most recent call last)",
      "Cell \u001b[0;32mIn[380], line 1\u001b[0m\n\u001b[0;32m----> 1\u001b[0m \u001b[43mZ\u001b[49m\u001b[43m(\u001b[49m\u001b[43m[\u001b[49m\u001b[38;5;241;43m0.1\u001b[39;49m\u001b[43m,\u001b[49m\u001b[38;5;241;43m1\u001b[39;49m\u001b[43m]\u001b[49m\u001b[43m)\u001b[49m\n",
      "Cell \u001b[0;32mIn[378], line 60\u001b[0m, in \u001b[0;36mZ\u001b[0;34m(param)\u001b[0m\n\u001b[1;32m     57\u001b[0m P, Q \u001b[38;5;241m=\u001b[39m np\u001b[38;5;241m.\u001b[39mmeshgrid(p, q)\n\u001b[1;32m     58\u001b[0m d \u001b[38;5;241m=\u001b[39m \u001b[38;5;241m1\u001b[39m \u001b[38;5;241m/\u001b[39m \u001b[38;5;241m2\u001b[39m \u001b[38;5;241m*\u001b[39m P \u001b[38;5;241m*\u001b[39m Q \u001b[38;5;241m*\u001b[39m (P \u001b[38;5;241m+\u001b[39m Q)\n\u001b[0;32m---> 60\u001b[0m arr \u001b[38;5;241m=\u001b[39m (\u001b[38;5;241m1\u001b[39m \u001b[38;5;241m/\u001b[39m d \u001b[38;5;241m*\u001b[39m \u001b[43mfourier_vec\u001b[49m\u001b[43m(\u001b[49m\u001b[38;5;28;43;01mlambda\u001b[39;49;00m\u001b[43m \u001b[49m\u001b[43marr\u001b[49m\u001b[43m:\u001b[49m\u001b[43m \u001b[49m\u001b[43mf\u001b[49m\u001b[43m(\u001b[49m\u001b[43marr\u001b[49m\u001b[43m,\u001b[49m\u001b[43m \u001b[49m\u001b[43mparam\u001b[49m\u001b[43m)\u001b[49m\u001b[43m,\u001b[49m\u001b[43m \u001b[49m\u001b[43mP\u001b[49m\u001b[43m,\u001b[49m\u001b[43m \u001b[49m\u001b[43mQ\u001b[49m\u001b[43m)\u001b[49m) \u001b[38;5;241m*\u001b[39m\u001b[38;5;241m*\u001b[39m (N \u001b[38;5;241m*\u001b[39m\u001b[38;5;241m*\u001b[39m \u001b[38;5;241m2\u001b[39m)\n\u001b[1;32m     61\u001b[0m \u001b[38;5;28;01mreturn\u001b[39;00m np\u001b[38;5;241m.\u001b[39mreal(np\u001b[38;5;241m.\u001b[39msum(arr))\n",
      "File \u001b[0;32m~/miniconda3/lib/python3.10/site-packages/numpy/lib/function_base.py:2329\u001b[0m, in \u001b[0;36mvectorize.__call__\u001b[0;34m(self, *args, **kwargs)\u001b[0m\n\u001b[1;32m   2326\u001b[0m     vargs \u001b[38;5;241m=\u001b[39m [args[_i] \u001b[38;5;28;01mfor\u001b[39;00m _i \u001b[38;5;129;01min\u001b[39;00m inds]\n\u001b[1;32m   2327\u001b[0m     vargs\u001b[38;5;241m.\u001b[39mextend([kwargs[_n] \u001b[38;5;28;01mfor\u001b[39;00m _n \u001b[38;5;129;01min\u001b[39;00m names])\n\u001b[0;32m-> 2329\u001b[0m \u001b[38;5;28;01mreturn\u001b[39;00m \u001b[38;5;28;43mself\u001b[39;49m\u001b[38;5;241;43m.\u001b[39;49m\u001b[43m_vectorize_call\u001b[49m\u001b[43m(\u001b[49m\u001b[43mfunc\u001b[49m\u001b[38;5;241;43m=\u001b[39;49m\u001b[43mfunc\u001b[49m\u001b[43m,\u001b[49m\u001b[43m \u001b[49m\u001b[43margs\u001b[49m\u001b[38;5;241;43m=\u001b[39;49m\u001b[43mvargs\u001b[49m\u001b[43m)\u001b[49m\n",
      "File \u001b[0;32m~/miniconda3/lib/python3.10/site-packages/numpy/lib/function_base.py:2407\u001b[0m, in \u001b[0;36mvectorize._vectorize_call\u001b[0;34m(self, func, args)\u001b[0m\n\u001b[1;32m   2405\u001b[0m     res \u001b[38;5;241m=\u001b[39m func()\n\u001b[1;32m   2406\u001b[0m \u001b[38;5;28;01melse\u001b[39;00m:\n\u001b[0;32m-> 2407\u001b[0m     ufunc, otypes \u001b[38;5;241m=\u001b[39m \u001b[38;5;28;43mself\u001b[39;49m\u001b[38;5;241;43m.\u001b[39;49m\u001b[43m_get_ufunc_and_otypes\u001b[49m\u001b[43m(\u001b[49m\u001b[43mfunc\u001b[49m\u001b[38;5;241;43m=\u001b[39;49m\u001b[43mfunc\u001b[49m\u001b[43m,\u001b[49m\u001b[43m \u001b[49m\u001b[43margs\u001b[49m\u001b[38;5;241;43m=\u001b[39;49m\u001b[43margs\u001b[49m\u001b[43m)\u001b[49m\n\u001b[1;32m   2409\u001b[0m     \u001b[38;5;66;03m# Convert args to object arrays first\u001b[39;00m\n\u001b[1;32m   2410\u001b[0m     inputs \u001b[38;5;241m=\u001b[39m [asanyarray(a, dtype\u001b[38;5;241m=\u001b[39m\u001b[38;5;28mobject\u001b[39m) \u001b[38;5;28;01mfor\u001b[39;00m a \u001b[38;5;129;01min\u001b[39;00m args]\n",
      "File \u001b[0;32m~/miniconda3/lib/python3.10/site-packages/numpy/lib/function_base.py:2367\u001b[0m, in \u001b[0;36mvectorize._get_ufunc_and_otypes\u001b[0;34m(self, func, args)\u001b[0m\n\u001b[1;32m   2363\u001b[0m     \u001b[38;5;28;01mraise\u001b[39;00m \u001b[38;5;167;01mValueError\u001b[39;00m(\u001b[38;5;124m'\u001b[39m\u001b[38;5;124mcannot call `vectorize` on size 0 inputs \u001b[39m\u001b[38;5;124m'\u001b[39m\n\u001b[1;32m   2364\u001b[0m                      \u001b[38;5;124m'\u001b[39m\u001b[38;5;124munless `otypes` is set\u001b[39m\u001b[38;5;124m'\u001b[39m)\n\u001b[1;32m   2366\u001b[0m inputs \u001b[38;5;241m=\u001b[39m [arg\u001b[38;5;241m.\u001b[39mflat[\u001b[38;5;241m0\u001b[39m] \u001b[38;5;28;01mfor\u001b[39;00m arg \u001b[38;5;129;01min\u001b[39;00m args]\n\u001b[0;32m-> 2367\u001b[0m outputs \u001b[38;5;241m=\u001b[39m \u001b[43mfunc\u001b[49m\u001b[43m(\u001b[49m\u001b[38;5;241;43m*\u001b[39;49m\u001b[43minputs\u001b[49m\u001b[43m)\u001b[49m\n\u001b[1;32m   2369\u001b[0m \u001b[38;5;66;03m# Performance note: profiling indicates that -- for simple\u001b[39;00m\n\u001b[1;32m   2370\u001b[0m \u001b[38;5;66;03m# functions at least -- this wrapping can almost double the\u001b[39;00m\n\u001b[1;32m   2371\u001b[0m \u001b[38;5;66;03m# execution time.\u001b[39;00m\n\u001b[1;32m   2372\u001b[0m \u001b[38;5;66;03m# Hence we make it optional.\u001b[39;00m\n\u001b[1;32m   2373\u001b[0m \u001b[38;5;28;01mif\u001b[39;00m \u001b[38;5;28mself\u001b[39m\u001b[38;5;241m.\u001b[39mcache:\n",
      "Cell \u001b[0;32mIn[378], line 41\u001b[0m, in \u001b[0;36mfourier\u001b[0;34m(f, p, q)\u001b[0m\n\u001b[1;32m     37\u001b[0m     result \u001b[38;5;241m=\u001b[39m res \u001b[38;5;241m/\u001b[39m (\u001b[38;5;241m2\u001b[39m \u001b[38;5;241m*\u001b[39m np\u001b[38;5;241m.\u001b[39mpi \u001b[38;5;241m*\u001b[39m\u001b[38;5;241m*\u001b[39m \u001b[38;5;241m5\u001b[39m) \u001b[38;5;241m*\u001b[39m np\u001b[38;5;241m.\u001b[39msin(p1) \u001b[38;5;241m*\u001b[39m\u001b[38;5;241m*\u001b[39m \u001b[38;5;241m4\u001b[39m \u001b[38;5;241m*\u001b[39m np\u001b[38;5;241m.\u001b[39msin(p2) \u001b[38;5;241m*\u001b[39m\u001b[38;5;241m*\u001b[39m \u001b[38;5;241m3\u001b[39m \u001b[38;5;241m*\u001b[39m np\u001b[38;5;241m.\u001b[39msin(p3) \u001b[38;5;241m*\u001b[39m\u001b[38;5;241m*\u001b[39m \u001b[38;5;241m2\u001b[39m \u001b[38;5;241m*\u001b[39m np\u001b[38;5;241m.\u001b[39msin(p4) \u001b[38;5;241m*\u001b[39m np\u001b[38;5;241m.\u001b[39msin(\n\u001b[1;32m     38\u001b[0m         t1) \u001b[38;5;241m*\u001b[39m\u001b[38;5;241m*\u001b[39m \u001b[38;5;241m2\u001b[39m \u001b[38;5;241m*\u001b[39m np\u001b[38;5;241m.\u001b[39msin(t2)\n\u001b[1;32m     39\u001b[0m     \u001b[38;5;28;01mreturn\u001b[39;00m [np\u001b[38;5;241m.\u001b[39mreal(result), np\u001b[38;5;241m.\u001b[39mimag(result)]\n\u001b[0;32m---> 41\u001b[0m result \u001b[38;5;241m=\u001b[39m \u001b[43minteg\u001b[49m\u001b[43m(\u001b[49m\u001b[43mintegrand\u001b[49m\u001b[43m,\u001b[49m\u001b[43m \u001b[49m\u001b[43mnitn\u001b[49m\u001b[38;5;241;43m=\u001b[39;49m\u001b[38;5;241;43m1\u001b[39;49m\u001b[43m,\u001b[49m\u001b[43m \u001b[49m\u001b[43mneval\u001b[49m\u001b[38;5;241;43m=\u001b[39;49m\u001b[38;5;241;43m1000\u001b[39;49m\u001b[43m)\u001b[49m\n\u001b[1;32m     42\u001b[0m \u001b[38;5;28;01mreturn\u001b[39;00m result[\u001b[38;5;241m0\u001b[39m]\u001b[38;5;241m.\u001b[39mmean \u001b[38;5;241m+\u001b[39m \u001b[38;5;241m1\u001b[39mj \u001b[38;5;241m*\u001b[39m result[\u001b[38;5;241m1\u001b[39m]\u001b[38;5;241m.\u001b[39mmean\n",
      "File \u001b[0;32msrc/vegas/_vegas.pyx:1803\u001b[0m, in \u001b[0;36mvegas._vegas.Integrator.__call__\u001b[0;34m()\u001b[0m\n",
      "File \u001b[0;32msrc/vegas/_vegas.pyx:2693\u001b[0m, in \u001b[0;36mvegas._vegas.VegasIntegrand.__init__\u001b[0;34m()\u001b[0m\n",
      "Cell \u001b[0;32mIn[378], line 36\u001b[0m, in \u001b[0;36mfourier.<locals>.integrand\u001b[0;34m(arr)\u001b[0m\n\u001b[1;32m     34\u001b[0m M \u001b[38;5;241m=\u001b[39m jacob(arr)\n\u001b[1;32m     35\u001b[0m p1, p2, p3, p4, p5, t1, t2, t3 \u001b[38;5;241m=\u001b[39m arr\n\u001b[0;32m---> 36\u001b[0m res \u001b[38;5;241m=\u001b[39m \u001b[43mf\u001b[49m\u001b[43m(\u001b[49m\u001b[43marr\u001b[49m\u001b[43m)\u001b[49m \u001b[38;5;241m*\u001b[39m np\u001b[38;5;241m.\u001b[39mconj(char(p, q, M))\n\u001b[1;32m     37\u001b[0m result \u001b[38;5;241m=\u001b[39m res \u001b[38;5;241m/\u001b[39m (\u001b[38;5;241m2\u001b[39m \u001b[38;5;241m*\u001b[39m np\u001b[38;5;241m.\u001b[39mpi \u001b[38;5;241m*\u001b[39m\u001b[38;5;241m*\u001b[39m \u001b[38;5;241m5\u001b[39m) \u001b[38;5;241m*\u001b[39m np\u001b[38;5;241m.\u001b[39msin(p1) \u001b[38;5;241m*\u001b[39m\u001b[38;5;241m*\u001b[39m \u001b[38;5;241m4\u001b[39m \u001b[38;5;241m*\u001b[39m np\u001b[38;5;241m.\u001b[39msin(p2) \u001b[38;5;241m*\u001b[39m\u001b[38;5;241m*\u001b[39m \u001b[38;5;241m3\u001b[39m \u001b[38;5;241m*\u001b[39m np\u001b[38;5;241m.\u001b[39msin(p3) \u001b[38;5;241m*\u001b[39m\u001b[38;5;241m*\u001b[39m \u001b[38;5;241m2\u001b[39m \u001b[38;5;241m*\u001b[39m np\u001b[38;5;241m.\u001b[39msin(p4) \u001b[38;5;241m*\u001b[39m np\u001b[38;5;241m.\u001b[39msin(\n\u001b[1;32m     38\u001b[0m     t1) \u001b[38;5;241m*\u001b[39m\u001b[38;5;241m*\u001b[39m \u001b[38;5;241m2\u001b[39m \u001b[38;5;241m*\u001b[39m np\u001b[38;5;241m.\u001b[39msin(t2)\n\u001b[1;32m     39\u001b[0m \u001b[38;5;28;01mreturn\u001b[39;00m [np\u001b[38;5;241m.\u001b[39mreal(result), np\u001b[38;5;241m.\u001b[39mimag(result)]\n",
      "Cell \u001b[0;32mIn[378], line 60\u001b[0m, in \u001b[0;36mZ.<locals>.<lambda>\u001b[0;34m(arr)\u001b[0m\n\u001b[1;32m     57\u001b[0m P, Q \u001b[38;5;241m=\u001b[39m np\u001b[38;5;241m.\u001b[39mmeshgrid(p, q)\n\u001b[1;32m     58\u001b[0m d \u001b[38;5;241m=\u001b[39m \u001b[38;5;241m1\u001b[39m \u001b[38;5;241m/\u001b[39m \u001b[38;5;241m2\u001b[39m \u001b[38;5;241m*\u001b[39m P \u001b[38;5;241m*\u001b[39m Q \u001b[38;5;241m*\u001b[39m (P \u001b[38;5;241m+\u001b[39m Q)\n\u001b[0;32m---> 60\u001b[0m arr \u001b[38;5;241m=\u001b[39m (\u001b[38;5;241m1\u001b[39m \u001b[38;5;241m/\u001b[39m d \u001b[38;5;241m*\u001b[39m fourier_vec(\u001b[38;5;28;01mlambda\u001b[39;00m arr: \u001b[43mf\u001b[49m\u001b[43m(\u001b[49m\u001b[43marr\u001b[49m\u001b[43m,\u001b[49m\u001b[43m \u001b[49m\u001b[43mparam\u001b[49m\u001b[43m)\u001b[49m, P, Q)) \u001b[38;5;241m*\u001b[39m\u001b[38;5;241m*\u001b[39m (N \u001b[38;5;241m*\u001b[39m\u001b[38;5;241m*\u001b[39m \u001b[38;5;241m2\u001b[39m)\n\u001b[1;32m     61\u001b[0m \u001b[38;5;28;01mreturn\u001b[39;00m np\u001b[38;5;241m.\u001b[39mreal(np\u001b[38;5;241m.\u001b[39msum(arr))\n",
      "Cell \u001b[0;32mIn[378], line 47\u001b[0m, in \u001b[0;36mf\u001b[0;34m(arr, param)\u001b[0m\n\u001b[1;32m     45\u001b[0m \u001b[38;5;28;01mdef\u001b[39;00m \u001b[38;5;21mf\u001b[39m(arr, param):\n\u001b[1;32m     46\u001b[0m     U \u001b[38;5;241m=\u001b[39m jacob(arr)\n\u001b[0;32m---> 47\u001b[0m     \u001b[38;5;28;01mreturn\u001b[39;00m np\u001b[38;5;241m.\u001b[39mexp(\u001b[38;5;241;43m2\u001b[39;49m\u001b[43m \u001b[49m\u001b[38;5;241;43m*\u001b[39;49m\u001b[43m \u001b[49m\u001b[43mparam\u001b[49m\u001b[43m \u001b[49m\u001b[38;5;241;43m*\u001b[39;49m\u001b[43m \u001b[49m\u001b[43m(\u001b[49m\u001b[43mnp\u001b[49m\u001b[38;5;241;43m.\u001b[39;49m\u001b[43mreal\u001b[49m\u001b[43m(\u001b[49m\u001b[43mU\u001b[49m\u001b[38;5;241;43m.\u001b[39;49m\u001b[43mtrace\u001b[49m\u001b[43m(\u001b[49m\u001b[43m)\u001b[49m\u001b[43m)\u001b[49m\u001b[43m \u001b[49m\u001b[38;5;241;43m-\u001b[39;49m\u001b[43m \u001b[49m\u001b[38;5;241;43m3\u001b[39;49m\u001b[43m)\u001b[49m)\n",
      "\u001b[0;31mTypeError\u001b[0m: can't multiply sequence by non-int of type 'numpy.float64'"
     ]
    }
   ],
   "source": [
    "Z([0.1,1])"
   ]
  },
  {
   "cell_type": "code",
   "execution_count": 387,
   "id": "ca00772c",
   "metadata": {},
   "outputs": [
    {
     "ename": "SyntaxError",
     "evalue": "invalid syntax (2938644756.py, line 59)",
     "output_type": "error",
     "traceback": [
      "\u001b[0;36m  Cell \u001b[0;32mIn[387], line 59\u001b[0;36m\u001b[0m\n\u001b[0;31m    arr = (1 / d * fourier_vec(lambda (arr, param): f(arr, param), P, Q, param)) ** (N ** 2)\u001b[0m\n\u001b[0m                                      ^\u001b[0m\n\u001b[0;31mSyntaxError\u001b[0m\u001b[0;31m:\u001b[0m invalid syntax\n"
     ]
    }
   ],
   "source": [
    "import numpy as np\n",
    "import vegas\n",
    "\n",
    "N = 10\n",
    "\n",
    "ls = [[0, np.pi]] * 2 + [[0, 2 * np.pi]] + [[0, np.pi]] * 4 + [[0, 2 * np.pi]]\n",
    "integ = vegas.Integrator(ls)\n",
    "\n",
    "\n",
    "def char(p, q, M):\n",
    "    A, B, C = -1j * np.log(np.linalg.eig(M)[0])\n",
    "    not_equal = np.not_equal(A, B)\n",
    "    equal = np.logical_and(np.equal(A, B), np.not_equal(A, 0))\n",
    "\n",
    "    s = np.where(not_equal,\n",
    "                 8 * np.sin(0.5 * (A - B)) * np.sin(0.5 * (A + 2 * B)) * np.sin(0.5 * (2 * A + B)),\n",
    "                 np.where(equal,\n",
    "                          8 * np.sin(3 / 2 * A) ** 2,\n",
    "                          1))\n",
    "\n",
    "    term1 = np.exp(1j * p * A - 1j * q * B) - np.exp(-1j * q * A + 1j * p * B)\n",
    "    term2 = np.exp(-1j * p * (A + B)) * (np.exp(-1j * q * A) - np.exp(-1j * q * B))\n",
    "    term3 = np.exp(1j * q * (A + B)) * (np.exp(1j * p * B) - np.exp(1j * p * A))\n",
    "\n",
    "    result = np.where(not_equal, -1j / s * (term1 + term2 + term3),\n",
    "                      np.where(equal, 2 / s * (term1 + term2 + term3),\n",
    "                               np.zeros_like(A)))\n",
    "\n",
    "    return result\n",
    "\n",
    "\n",
    "def fourier(f, p, q, param):\n",
    "    def integrand(arr, param):\n",
    "        M = jacob(arr)\n",
    "        p1, p2, p3, p4, p5, t1, t2, t3 = arr\n",
    "        res = f(arr, param) * np.conj(char(p, q, M))\n",
    "        result = res / (2 * np.pi ** 5) * np.sin(p1) ** 4 * np.sin(p2) ** 3 * np.sin(p3) ** 2 * np.sin(p4) * np.sin(\n",
    "            t1) ** 2 * np.sin(t2)\n",
    "        return [np.real(result), np.imag(result)]\n",
    "\n",
    "    result = integ(integrand, nitn=1, neval=1000)\n",
    "    return result[0].mean + 1j * result[1].mean\n",
    "\n",
    "\n",
    "def f(arr, param):\n",
    "    U = jacob(arr)\n",
    "    return np.exp(2 * param * (np.real(U.trace()) - 3))\n",
    "\n",
    "\n",
    "fourier_vec = np.vectorize(fourier, excluded=['p', 'q'])\n",
    "\n",
    "\n",
    "def Z(param):\n",
    "    p = np.arange(1, 5)\n",
    "    q = np.arange(1, 5)\n",
    "    P, Q = np.meshgrid(p, q)\n",
    "    d = 1 / 2 * P * Q * (P + Q)\n",
    "\n",
    "    arr = (1 / d * fourier_vec(lambda (arr, param): f(arr, param), P, Q, param)) ** (N ** 2)\n",
    "    return np.real(np.sum(arr))"
   ]
  },
  {
   "cell_type": "code",
   "execution_count": 388,
   "id": "047e2cfc",
   "metadata": {},
   "outputs": [
    {
     "ename": "TypeError",
     "evalue": "fourier.<locals>.integrand() missing 1 required positional argument: 'param'",
     "output_type": "error",
     "traceback": [
      "\u001b[0;31m---------------------------------------------------------------------------\u001b[0m",
      "\u001b[0;31mTypeError\u001b[0m                                 Traceback (most recent call last)",
      "Cell \u001b[0;32mIn[388], line 1\u001b[0m\n\u001b[0;32m----> 1\u001b[0m \u001b[43mZ\u001b[49m\u001b[43m(\u001b[49m\u001b[38;5;241;43m1\u001b[39;49m\u001b[43m)\u001b[49m\n",
      "Cell \u001b[0;32mIn[385], line 59\u001b[0m, in \u001b[0;36mZ\u001b[0;34m(param)\u001b[0m\n\u001b[1;32m     56\u001b[0m P, Q \u001b[38;5;241m=\u001b[39m np\u001b[38;5;241m.\u001b[39mmeshgrid(p, q)\n\u001b[1;32m     57\u001b[0m d \u001b[38;5;241m=\u001b[39m \u001b[38;5;241m1\u001b[39m \u001b[38;5;241m/\u001b[39m \u001b[38;5;241m2\u001b[39m \u001b[38;5;241m*\u001b[39m P \u001b[38;5;241m*\u001b[39m Q \u001b[38;5;241m*\u001b[39m (P \u001b[38;5;241m+\u001b[39m Q)\n\u001b[0;32m---> 59\u001b[0m arr \u001b[38;5;241m=\u001b[39m (\u001b[38;5;241m1\u001b[39m \u001b[38;5;241m/\u001b[39m d \u001b[38;5;241m*\u001b[39m \u001b[43mfourier_vec\u001b[49m\u001b[43m(\u001b[49m\u001b[38;5;28;43;01mlambda\u001b[39;49;00m\u001b[43m \u001b[49m\u001b[43marr\u001b[49m\u001b[43m,\u001b[49m\u001b[43m \u001b[49m\u001b[43mparam\u001b[49m\u001b[43m:\u001b[49m\u001b[43m \u001b[49m\u001b[43mf\u001b[49m\u001b[43m(\u001b[49m\u001b[43marr\u001b[49m\u001b[43m,\u001b[49m\u001b[43m \u001b[49m\u001b[43mparam\u001b[49m\u001b[43m)\u001b[49m\u001b[43m,\u001b[49m\u001b[43m \u001b[49m\u001b[43mP\u001b[49m\u001b[43m,\u001b[49m\u001b[43m \u001b[49m\u001b[43mQ\u001b[49m\u001b[43m,\u001b[49m\u001b[43m \u001b[49m\u001b[43mparam\u001b[49m\u001b[43m)\u001b[49m) \u001b[38;5;241m*\u001b[39m\u001b[38;5;241m*\u001b[39m (N \u001b[38;5;241m*\u001b[39m\u001b[38;5;241m*\u001b[39m \u001b[38;5;241m2\u001b[39m)\n\u001b[1;32m     60\u001b[0m \u001b[38;5;28;01mreturn\u001b[39;00m np\u001b[38;5;241m.\u001b[39mreal(np\u001b[38;5;241m.\u001b[39msum(arr))\n",
      "File \u001b[0;32m~/miniconda3/lib/python3.10/site-packages/numpy/lib/function_base.py:2329\u001b[0m, in \u001b[0;36mvectorize.__call__\u001b[0;34m(self, *args, **kwargs)\u001b[0m\n\u001b[1;32m   2326\u001b[0m     vargs \u001b[38;5;241m=\u001b[39m [args[_i] \u001b[38;5;28;01mfor\u001b[39;00m _i \u001b[38;5;129;01min\u001b[39;00m inds]\n\u001b[1;32m   2327\u001b[0m     vargs\u001b[38;5;241m.\u001b[39mextend([kwargs[_n] \u001b[38;5;28;01mfor\u001b[39;00m _n \u001b[38;5;129;01min\u001b[39;00m names])\n\u001b[0;32m-> 2329\u001b[0m \u001b[38;5;28;01mreturn\u001b[39;00m \u001b[38;5;28;43mself\u001b[39;49m\u001b[38;5;241;43m.\u001b[39;49m\u001b[43m_vectorize_call\u001b[49m\u001b[43m(\u001b[49m\u001b[43mfunc\u001b[49m\u001b[38;5;241;43m=\u001b[39;49m\u001b[43mfunc\u001b[49m\u001b[43m,\u001b[49m\u001b[43m \u001b[49m\u001b[43margs\u001b[49m\u001b[38;5;241;43m=\u001b[39;49m\u001b[43mvargs\u001b[49m\u001b[43m)\u001b[49m\n",
      "File \u001b[0;32m~/miniconda3/lib/python3.10/site-packages/numpy/lib/function_base.py:2407\u001b[0m, in \u001b[0;36mvectorize._vectorize_call\u001b[0;34m(self, func, args)\u001b[0m\n\u001b[1;32m   2405\u001b[0m     res \u001b[38;5;241m=\u001b[39m func()\n\u001b[1;32m   2406\u001b[0m \u001b[38;5;28;01melse\u001b[39;00m:\n\u001b[0;32m-> 2407\u001b[0m     ufunc, otypes \u001b[38;5;241m=\u001b[39m \u001b[38;5;28;43mself\u001b[39;49m\u001b[38;5;241;43m.\u001b[39;49m\u001b[43m_get_ufunc_and_otypes\u001b[49m\u001b[43m(\u001b[49m\u001b[43mfunc\u001b[49m\u001b[38;5;241;43m=\u001b[39;49m\u001b[43mfunc\u001b[49m\u001b[43m,\u001b[49m\u001b[43m \u001b[49m\u001b[43margs\u001b[49m\u001b[38;5;241;43m=\u001b[39;49m\u001b[43margs\u001b[49m\u001b[43m)\u001b[49m\n\u001b[1;32m   2409\u001b[0m     \u001b[38;5;66;03m# Convert args to object arrays first\u001b[39;00m\n\u001b[1;32m   2410\u001b[0m     inputs \u001b[38;5;241m=\u001b[39m [asanyarray(a, dtype\u001b[38;5;241m=\u001b[39m\u001b[38;5;28mobject\u001b[39m) \u001b[38;5;28;01mfor\u001b[39;00m a \u001b[38;5;129;01min\u001b[39;00m args]\n",
      "File \u001b[0;32m~/miniconda3/lib/python3.10/site-packages/numpy/lib/function_base.py:2367\u001b[0m, in \u001b[0;36mvectorize._get_ufunc_and_otypes\u001b[0;34m(self, func, args)\u001b[0m\n\u001b[1;32m   2363\u001b[0m     \u001b[38;5;28;01mraise\u001b[39;00m \u001b[38;5;167;01mValueError\u001b[39;00m(\u001b[38;5;124m'\u001b[39m\u001b[38;5;124mcannot call `vectorize` on size 0 inputs \u001b[39m\u001b[38;5;124m'\u001b[39m\n\u001b[1;32m   2364\u001b[0m                      \u001b[38;5;124m'\u001b[39m\u001b[38;5;124munless `otypes` is set\u001b[39m\u001b[38;5;124m'\u001b[39m)\n\u001b[1;32m   2366\u001b[0m inputs \u001b[38;5;241m=\u001b[39m [arg\u001b[38;5;241m.\u001b[39mflat[\u001b[38;5;241m0\u001b[39m] \u001b[38;5;28;01mfor\u001b[39;00m arg \u001b[38;5;129;01min\u001b[39;00m args]\n\u001b[0;32m-> 2367\u001b[0m outputs \u001b[38;5;241m=\u001b[39m \u001b[43mfunc\u001b[49m\u001b[43m(\u001b[49m\u001b[38;5;241;43m*\u001b[39;49m\u001b[43minputs\u001b[49m\u001b[43m)\u001b[49m\n\u001b[1;32m   2369\u001b[0m \u001b[38;5;66;03m# Performance note: profiling indicates that -- for simple\u001b[39;00m\n\u001b[1;32m   2370\u001b[0m \u001b[38;5;66;03m# functions at least -- this wrapping can almost double the\u001b[39;00m\n\u001b[1;32m   2371\u001b[0m \u001b[38;5;66;03m# execution time.\u001b[39;00m\n\u001b[1;32m   2372\u001b[0m \u001b[38;5;66;03m# Hence we make it optional.\u001b[39;00m\n\u001b[1;32m   2373\u001b[0m \u001b[38;5;28;01mif\u001b[39;00m \u001b[38;5;28mself\u001b[39m\u001b[38;5;241m.\u001b[39mcache:\n",
      "File \u001b[0;32m~/miniconda3/lib/python3.10/site-packages/numpy/lib/function_base.py:2324\u001b[0m, in \u001b[0;36mvectorize.__call__.<locals>.func\u001b[0;34m(*vargs)\u001b[0m\n\u001b[1;32m   2322\u001b[0m     the_args[_i] \u001b[38;5;241m=\u001b[39m vargs[_n]\n\u001b[1;32m   2323\u001b[0m kwargs\u001b[38;5;241m.\u001b[39mupdate(\u001b[38;5;28mzip\u001b[39m(names, vargs[\u001b[38;5;28mlen\u001b[39m(inds):]))\n\u001b[0;32m-> 2324\u001b[0m \u001b[38;5;28;01mreturn\u001b[39;00m \u001b[38;5;28;43mself\u001b[39;49m\u001b[38;5;241;43m.\u001b[39;49m\u001b[43mpyfunc\u001b[49m\u001b[43m(\u001b[49m\u001b[38;5;241;43m*\u001b[39;49m\u001b[43mthe_args\u001b[49m\u001b[43m,\u001b[49m\u001b[43m \u001b[49m\u001b[38;5;241;43m*\u001b[39;49m\u001b[38;5;241;43m*\u001b[39;49m\u001b[43mkwargs\u001b[49m\u001b[43m)\u001b[49m\n",
      "Cell \u001b[0;32mIn[385], line 41\u001b[0m, in \u001b[0;36mfourier\u001b[0;34m(f, p, q, param)\u001b[0m\n\u001b[1;32m     37\u001b[0m     result \u001b[38;5;241m=\u001b[39m res \u001b[38;5;241m/\u001b[39m (\u001b[38;5;241m2\u001b[39m \u001b[38;5;241m*\u001b[39m np\u001b[38;5;241m.\u001b[39mpi \u001b[38;5;241m*\u001b[39m\u001b[38;5;241m*\u001b[39m \u001b[38;5;241m5\u001b[39m) \u001b[38;5;241m*\u001b[39m np\u001b[38;5;241m.\u001b[39msin(p1) \u001b[38;5;241m*\u001b[39m\u001b[38;5;241m*\u001b[39m \u001b[38;5;241m4\u001b[39m \u001b[38;5;241m*\u001b[39m np\u001b[38;5;241m.\u001b[39msin(p2) \u001b[38;5;241m*\u001b[39m\u001b[38;5;241m*\u001b[39m \u001b[38;5;241m3\u001b[39m \u001b[38;5;241m*\u001b[39m np\u001b[38;5;241m.\u001b[39msin(p3) \u001b[38;5;241m*\u001b[39m\u001b[38;5;241m*\u001b[39m \u001b[38;5;241m2\u001b[39m \u001b[38;5;241m*\u001b[39m np\u001b[38;5;241m.\u001b[39msin(p4) \u001b[38;5;241m*\u001b[39m np\u001b[38;5;241m.\u001b[39msin(\n\u001b[1;32m     38\u001b[0m         t1) \u001b[38;5;241m*\u001b[39m\u001b[38;5;241m*\u001b[39m \u001b[38;5;241m2\u001b[39m \u001b[38;5;241m*\u001b[39m np\u001b[38;5;241m.\u001b[39msin(t2)\n\u001b[1;32m     39\u001b[0m     \u001b[38;5;28;01mreturn\u001b[39;00m [np\u001b[38;5;241m.\u001b[39mreal(result), np\u001b[38;5;241m.\u001b[39mimag(result)]\n\u001b[0;32m---> 41\u001b[0m result \u001b[38;5;241m=\u001b[39m \u001b[43minteg\u001b[49m\u001b[43m(\u001b[49m\u001b[43mintegrand\u001b[49m\u001b[43m,\u001b[49m\u001b[43m \u001b[49m\u001b[43mnitn\u001b[49m\u001b[38;5;241;43m=\u001b[39;49m\u001b[38;5;241;43m1\u001b[39;49m\u001b[43m,\u001b[49m\u001b[43m \u001b[49m\u001b[43mneval\u001b[49m\u001b[38;5;241;43m=\u001b[39;49m\u001b[38;5;241;43m1000\u001b[39;49m\u001b[43m)\u001b[49m\n\u001b[1;32m     42\u001b[0m \u001b[38;5;28;01mreturn\u001b[39;00m result[\u001b[38;5;241m0\u001b[39m]\u001b[38;5;241m.\u001b[39mmean \u001b[38;5;241m+\u001b[39m \u001b[38;5;241m1\u001b[39mj \u001b[38;5;241m*\u001b[39m result[\u001b[38;5;241m1\u001b[39m]\u001b[38;5;241m.\u001b[39mmean\n",
      "File \u001b[0;32msrc/vegas/_vegas.pyx:1803\u001b[0m, in \u001b[0;36mvegas._vegas.Integrator.__call__\u001b[0;34m()\u001b[0m\n",
      "File \u001b[0;32msrc/vegas/_vegas.pyx:2693\u001b[0m, in \u001b[0;36mvegas._vegas.VegasIntegrand.__init__\u001b[0;34m()\u001b[0m\n",
      "\u001b[0;31mTypeError\u001b[0m: fourier.<locals>.integrand() missing 1 required positional argument: 'param'"
     ]
    }
   ],
   "source": [
    "Z(1)"
   ]
  },
  {
   "cell_type": "code",
   "execution_count": null,
   "id": "1dbace85",
   "metadata": {},
   "outputs": [],
   "source": []
  }
 ],
 "metadata": {
  "kernelspec": {
   "display_name": "Python 3 (ipykernel)",
   "language": "python",
   "name": "python3"
  },
  "language_info": {
   "codemirror_mode": {
    "name": "ipython",
    "version": 3
   },
   "file_extension": ".py",
   "mimetype": "text/x-python",
   "name": "python",
   "nbconvert_exporter": "python",
   "pygments_lexer": "ipython3",
   "version": "3.9.5"
  }
 },
 "nbformat": 4,
 "nbformat_minor": 5
}
