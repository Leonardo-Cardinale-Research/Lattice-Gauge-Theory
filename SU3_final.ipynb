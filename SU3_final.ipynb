{
 "cells": [
  {
   "cell_type": "code",
   "execution_count": 1,
   "id": "56638be5",
   "metadata": {},
   "outputs": [],
   "source": [
    "import sympy as sp\n",
    "import numpy as np\n",
    "from scipy.linalg import expm\n",
    "import vegas\n",
    "from tqdm import tqdm\n",
    "import matplotlib.pyplot as plt"
   ]
  },
  {
   "cell_type": "code",
   "execution_count": null,
   "id": "193370d6",
   "metadata": {},
   "outputs": [],
   "source": [
    "def Phi1(arr):\n",
    "    alpha1, alpha2, alpha3, phi1, phi2 = arr\n",
    "    x1 = np.cos(alpha1) * np.sin(phi1)\n",
    "    x2 = np.sin(alpha1) * np.sin(phi1)\n",
    "    x3 = np.sin(alpha2) * np.cos(phi1) * np.sin(phi2)\n",
    "    x4 = np.cos(alpha2) * np.cos(phi1) * np.sin(phi2)\n",
    "    x5 = np.sin(alpha3) * np.cos(phi1) * np.cos(phi2)\n",
    "    x6 = np.cos(alpha3) * np.cos(phi1) * np.cos(phi2)\n",
    "    return np.array([x1,x2,x3,x4,x5,x6])\n",
    "\n",
    "def Phi1_inv(x1, x2, x3, x4, x5, x6):\n",
    "    alpha1 = np.arctan2(x2,x1)\n",
    "    alpha1[alpha1 < 0] += np.pi\n",
    "    alpha2 = np.arctan2(x3,x4)\n",
    "    alpha2[alpha2 < 0] += np.pi\n",
    "    alpha3 = np.arctan2(x5,x6)\n",
    "    alpha3[alpha3 < 0] += np.pi\n",
    "    phi1 = np.arcsin(np.sqrt(x1**2 + x2**2))\n",
    "    phi2 = np.zeros(len(x1))\n",
    "    phi2[abs(x1**2 + x2**2 - 1) >= 1e-5"
   ]
  },
  {
   "cell_type": "code",
   "execution_count": 9,
   "id": "97684969",
   "metadata": {},
   "outputs": [
    {
     "name": "stdout",
     "output_type": "stream",
     "text": [
      "itn   integral        wgt average     chi2/dof        Q\n",
      "-------------------------------------------------------\n",
      "  1   0.793(66)       0.793(66)           0.00     1.00\n",
      "  2   1.009(51)       0.927(40)           3.37     0.03\n",
      "  3   0.929(39)       0.928(28)           1.68     0.15\n",
      "  4   1.026(47)       0.954(24)           1.66     0.13\n",
      "  5   0.999(36)       0.968(20)           1.37     0.20\n",
      "  6   0.993(41)       0.973(18)           1.13     0.33\n",
      "  7   1.016(38)       0.981(16)           1.03     0.42\n",
      "  8   0.982(24)       0.981(14)           0.88     0.58\n",
      "  9   0.988(24)       0.983(12)           0.77     0.72\n",
      " 10   1.017(23)       0.990(10)           0.79     0.72\n",
      "\n",
      "result = [0.990(10) 0(0)]    Q = 0.72\n"
     ]
    },
    {
     "data": {
      "text/plain": [
       "0.9897942070991123"
      ]
     },
     "execution_count": 9,
     "metadata": {},
     "output_type": "execute_result"
    }
   ],
   "source": [
    "def Phi1(arr):\n",
    "    alpha1, alpha2, alpha3, phi1, phi2 = arr\n",
    "    x1 = np.cos(alpha1) * np.sin(phi1)\n",
    "    x2 = np.sin(alpha1) * np.sin(phi1)\n",
    "    x3 = np.sin(alpha2) * np.cos(phi1) * np.sin(phi2)\n",
    "    x4 = np.cos(alpha2) * np.cos(phi1) * np.sin(phi2)\n",
    "    x5 = np.sin(alpha3) * np.cos(phi1) * np.cos(phi2)\n",
    "    x6 = np.cos(alpha3) * np.cos(phi1) * np.cos(phi2)\n",
    "    return np.array([x1,x2,x3,x4,x5,x6])\n",
    "\n",
    "def Phi1_inv(x1, x2, x3, x4, x5, x6):\n",
    "    alpha1 = np.arctan2(x2,x1)\n",
    "    if alpha1 < 0:\n",
    "        alpha1 += np.pi\n",
    "    alpha2 = np.arctan2(x3,x4)\n",
    "    if alpha2 < 0:\n",
    "        alpha2 += np.pi\n",
    "    alpha3 = np.arctan2(x5,x6)\n",
    "    if alpha3 < 0:\n",
    "        alpha3 += np.pi\n",
    "    phi1 = np.arcsin(np.sqrt(x1**2 + x2**2))\n",
    "    if abs(x1**2 + x2**2 - 1) < 1e-5:\n",
    "        phi2 = 0\n",
    "    else:\n",
    "        phi2 = np.arcsin(np.sqrt((x3**2+x4**2)/(1-x1**2-x2**2)))\n",
    "    return alpha1,alpha2,alpha3,phi1,phi2\n",
    "\n",
    "Phi1_inv_vec = np.vectorize(Phi1_inv)\n",
    "    \n",
    "def Phi(x,y,z,t):\n",
    "    alpha = x + 1j*y\n",
    "    beta = z + 1j*t\n",
    "    return np.array([[alpha, -beta.conjugate()], [beta,alpha.conjugate()]])\n",
    "\n",
    "def Phi2(alpha1, alpha2, alpha3, phi1, phi2, U):\n",
    "    arr00 = np.exp(1j*alpha1) * np.cos(phi1)\n",
    "    arr02 = np.exp(1j*alpha1) * np.sin(phi1)\n",
    "    arr10 = - np.exp(1j*alpha2) * np.sin(phi1) * np.sin(phi2)\n",
    "    arr11 = np.exp(-1j*alpha1-1j*alpha3) * np.cos(phi2)\n",
    "    arr12 = np.exp(1j*alpha2) * np.cos(phi1) * np.sin(phi2)\n",
    "    arr20 = - np.exp(1j*alpha3) * np.sin(phi1) * np.cos(phi2)\n",
    "    arr21 = - np.exp(-1j*alpha1-1j*alpha2) * np.sin(phi2)\n",
    "    arr22 = np.exp(1j*alpha3) * np.cos(phi1) * np.cos(phi2)\n",
    "    arr0 = np.array([[arr00, 0, arr02],[arr10,arr11,arr12],[arr20,arr21,arr22]])\n",
    "    arr1 = np.zeros((3,3),dtype=complex)\n",
    "    arr1[:2,:2] = U\n",
    "    arr1[2,2] = 1\n",
    "    return arr0.dot(arr1)\n",
    "\n",
    "def Phi3(x1, x2, x3, x4, x5, x6, x, y, z, t):\n",
    "    arr0 = Phi1_inv(x1, x2, x3, x4, x5, x6)\n",
    "    alpha1, alpha2, alpha3, phi1, phi2 = Phi1_inv(x1, x2, x3, x4, x5, x6)\n",
    "    U = Phi(x, y, z, t)\n",
    "    return Phi2(alpha1, alpha2, alpha3, phi1, phi2, U)\n",
    "\n",
    "def diffeo(p1,p2,p3,p4,p5,t1,t2,t3):\n",
    "    x1 = np.cos(p1)\n",
    "    x2 = np.sin(p1) * np.cos(p2)\n",
    "    x3 = np.sin(p1) * np.sin(p2) * np.cos(p3)\n",
    "    x4 = np.sin(p1) * np.sin(p2) * np.sin(p3) * np.cos(p4)\n",
    "    x5 = np.sin(p1) * np.sin(p2) * np.sin(p3) * np.sin(p4) * np.cos(p5)\n",
    "    x6 = np.sin(p1) * np.sin(p2) * np.sin(p3) * np.sin(p4) * np.sin(p5)\n",
    "    y1 = np.cos(t1)\n",
    "    y2 = np.sin(t1) * np.cos(t2)\n",
    "    y3 = np.sin(t1) * np.sin(t2) * np.cos(t3)\n",
    "    y4 = np.sin(t1) * np.sin(t2) * np.sin(t3)\n",
    "    return x1,x2,x3,x4,x5,x6,y1,y2,y3,y4\n",
    "\n",
    "def jacob(p1,p2,p3,p4,p5,t1,t2,t3):\n",
    "    arg0, arg1, arg2, arg3, arg4, arg5, arg6, arg7, arg8, arg9 = diffeo(p1,p2,p3,p4,p5,t1,t2,t3)\n",
    "    return Phi3(arg0, arg1, arg2, arg3, arg4, arg5, arg6, arg7, arg8, arg9)\n",
    "\n",
    "def jacob_vec(p1,p2,p3,p4,p5,t1,t2,t3):\n",
    "    x1, x2, x3, x4, x5, x6, y1, y2, y3, y4 = diffeo(p1,p2,p3,p4,p5,t1,t2,t3)\n",
    "    Phi2_vec = np.vectorize(Phi2)\n",
    "    alpha1, alpha2, alpha3, phi1, phi2 = Phi1_inv_vec(x1, x2, x3, x4, x5, x6)\n",
    "    U = Phi(y1, y2, y3, y4)\n",
    "    return Phi2_vec(alpha1, alpha2, alpha3, phi1, phi2, U)\n",
    "\n",
    "def jacob(arr):\n",
    "    p1,p2,p3,p4,p5,t1,t2,t3 = arr\n",
    "    arg0, arg1, arg2, arg3, arg4, arg5, arg6, arg7, arg8, arg9 = diffeo(p1,p2,p3,p4,p5,t1,t2,t3)\n",
    "    integrand = Phi3(arg0, arg1, arg2, arg3, arg4, arg5, arg6, arg7, arg8, arg9)\n",
    "    return integrand\n",
    "\n",
    "def char(p,q,M):\n",
    "    A, B, C = -1j * np.log(np.linalg.eig(M)[0])\n",
    "    if A != B:\n",
    "        s = 8*np.sin(0.5*(A-B))*np.sin(0.5*(A+2*B))*np.sin(0.5*(2*A+B))\n",
    "        term1 = np.exp(1j*p*A-1j*q*B) - np.exp(-1j*q*A+1j*p*B)\n",
    "        term2 = np.exp(-1j*p*(A+B)) * (np.exp(-1j*q*A)-np.exp(-1j*q*B))\n",
    "        term3 = np.exp(1j*q*(A+B)) * (np.exp(1j*p*B)-np.exp(1j*p*A))\n",
    "        return -1j/s * (term1 + term2 + term3)\n",
    "    elif A == B and A != 0:\n",
    "        s = 8 * np.sin(3/2 * A)**2\n",
    "        term1 = np.exp(1j*(p-q)*A) * (p+q)\n",
    "        term2 = - np.exp(-(q+2*p)*1j*A) * q\n",
    "        term3 = - np.exp((2*q+p)*1j*A) * p\n",
    "        return 2/s * (term1 + term2 + term3)\n",
    "    else:\n",
    "        return 1/2 * (p*q)*(p+q)\n",
    "\n",
    "def test(arr):\n",
    "    M = jacob(arr)\n",
    "    p1,p2,p3,p4,p5,t1,t2,t3 = arr\n",
    "    #res = M[0,1] * np.conj(M[0,1])\n",
    "    #res = 1\n",
    "    #res = M[0,1] * M[1,2] * M[2,0]\n",
    "    chi1 = char(3,2,M)\n",
    "    chi2 = char(3,2,M)\n",
    "    res = chi1 * np.conj(chi2)\n",
    "    result = res/(2*np.pi**5) * np.sin(p1)**4 * np.sin(p2)**3 * np.sin(p3)**2 * np.sin(p4) * np.sin(t1)**2 * np.sin(t2)\n",
    "    return [np.real(result), np.imag(result)]\n",
    "\n",
    "ls = []\n",
    "for _ in range(2):\n",
    "    ls.append([0,np.pi])\n",
    "ls.append([0,2*np.pi])\n",
    "for _ in range(4):\n",
    "    ls.append([0,np.pi])\n",
    "ls.append([0,2*np.pi])\n",
    "    \n",
    "integ = vegas.Integrator(ls)\n",
    "\n",
    "result = integ(test, nitn=10, neval=10000)\n",
    "print(result.summary())\n",
    "print('result = %s    Q = %.2f' % (result, result.Q))\n",
    "\n",
    "result[0].mean"
   ]
  },
  {
   "cell_type": "code",
   "execution_count": 15,
   "id": "1684f658",
   "metadata": {},
   "outputs": [
    {
     "data": {
      "text/plain": [
       "((-0.00015444250341588273-0.0003529642152264551j),\n",
       " array([-0.000878  -0.00050556j,  0.01033026+0.00030084j]))"
      ]
     },
     "execution_count": 15,
     "metadata": {},
     "output_type": "execute_result"
    }
   ],
   "source": [
    "N = 10\n",
    "\n",
    "def fourier(f,p,q):\n",
    "    def integrand(arr):\n",
    "        M = jacob(arr)\n",
    "        p1,p2,p3,p4,p5,t1,t2,t3 = arr\n",
    "        res = f(arr) * np.conj(char(p,q,M))\n",
    "        result = res/(2*np.pi**5) * np.sin(p1)**4 * np.sin(p2)**3 * np.sin(p3)**2 * np.sin(p4) * np.sin(t1)**2 * np.sin(t2)\n",
    "        return [np.real(result), np.imag(result)]\n",
    "    result = integ(integrand, nitn=1, neval=1000)\n",
    "    return result[0].mean + 1j * result[1].mean\n",
    "\n",
    "def f(arr,param):\n",
    "    U = jacob(arr)\n",
    "    return np.exp(2*param*(np.real(U.trace())-3))\n",
    "\n",
    "fourier_vec = np.vectorize(fourier)\n",
    "\n",
    "def Z(param):\n",
    "    s = 0\n",
    "    p = np.arange(1,10)\n",
    "    q = np.arange(1,10)\n",
    "    P,Q = np.meshgrid(p,q)\n",
    "    d = 1/2 * P * Q * (P + Q)\n",
    "    arr = (1/d * fourier_vec(lambda arr:f(arr,param),P,Q))**(N**2)\n",
    "    return np.real(np.sum(arr))\n",
    "\n",
    "Z_vec = np.vectorize(Z)\n",
    "\n",
    "fourier(lambda arr:f(arr,1),10,1), fourier_vec(lambda arr:f(arr,1),[10,1],[1,2])"
   ]
  },
  {
   "cell_type": "code",
   "execution_count": 17,
   "id": "6225f07f",
   "metadata": {},
   "outputs": [
    {
     "name": "stderr",
     "output_type": "stream",
     "text": [
      "100%|█████████████████████████████████████████| 100/100 [30:05<00:00, 18.06s/it]\n"
     ]
    }
   ],
   "source": [
    "betas = np.linspace(0,10,100)\n",
    "\n",
    "Z_ls = []\n",
    "\n",
    "my_list = range(len(betas))\n",
    "\n",
    "for item in tqdm(my_list):\n",
    "    \n",
    "    Z_ls.append(Z(betas[item]))"
   ]
  },
  {
   "cell_type": "code",
   "execution_count": 18,
   "id": "3aef41df",
   "metadata": {},
   "outputs": [
    {
     "name": "stderr",
     "output_type": "stream",
     "text": [
      "/var/folders/h7/_hqqwrk517z46v06lptyq1580000gn/T/ipykernel_21924/2782762616.py:1: RuntimeWarning: divide by zero encountered in log\n",
      "  action = - betas[1::] * np.diff(np.log(Z_ls))/np.diff(betas)\n"
     ]
    },
    {
     "data": {
      "text/plain": [
       "[<matplotlib.lines.Line2D at 0x7fe43445b730>]"
      ]
     },
     "execution_count": 18,
     "metadata": {},
     "output_type": "execute_result"
    },
    {
     "data": {
      "image/png": "[encoded data removed]",
      "text/plain": [
       "<Figure size 640x480 with 1 Axes>"
      ]
     },
     "metadata": {},
     "output_type": "display_data"
    }
   ],
   "source": [
    "action = - betas[1::] * np.diff(np.log(Z_ls))/np.diff(betas)\n",
    "plt.plot(betas[1::],action)"
   ]
  },
  {
   "cell_type": "code",
   "execution_count": 19,
   "id": "f0363316",
   "metadata": {},
   "outputs": [
    {
     "data": {
      "text/plain": [
       "[9.428627640562937,\n",
       " 3.5018645664190924e-26,\n",
       " 4.143630223814381e-51,\n",
       " 6.7461415281533596e-74,\n",
       " 4.3386645494414637e-98,\n",
       " 6.5045409147001e-119,\n",
       " 2.445217548249202e-141,\n",
       " 3.382591152549654e-160,\n",
       " 1.4591107665111875e-177,\n",
       " 9.699892801484076e-189,\n",
       " 7.492669966680047e-214,\n",
       " 6.999538232748974e-227,\n",
       " 2.6570605068488686e-238,\n",
       " 4.185083551485779e-255,\n",
       " 3.1340733614122495e-262,\n",
       " 6.667487896364471e-273,\n",
       " 3.703417646425793e-279,\n",
       " 2.0323133694664065e-290,\n",
       " 1.5791989867862014e-298,\n",
       " 3.82355274e-316,\n",
       " 1.65685e-319,\n",
       " 0.0,\n",
       " 0.0,\n",
       " 0.0,\n",
       " 0.0,\n",
       " 0.0,\n",
       " 0.0,\n",
       " 0.0,\n",
       " 0.0,\n",
       " 0.0,\n",
       " 0.0,\n",
       " 0.0,\n",
       " 0.0,\n",
       " 0.0,\n",
       " 0.0,\n",
       " 0.0,\n",
       " 0.0,\n",
       " 0.0,\n",
       " 0.0,\n",
       " 0.0,\n",
       " 0.0,\n",
       " 0.0,\n",
       " 0.0,\n",
       " 0.0,\n",
       " 0.0,\n",
       " 0.0,\n",
       " 0.0,\n",
       " 0.0,\n",
       " 0.0,\n",
       " 0.0,\n",
       " 0.0,\n",
       " 0.0,\n",
       " 0.0,\n",
       " 0.0,\n",
       " 0.0,\n",
       " 0.0,\n",
       " 0.0,\n",
       " 0.0,\n",
       " 0.0,\n",
       " 0.0,\n",
       " 0.0,\n",
       " 0.0,\n",
       " 0.0,\n",
       " 0.0,\n",
       " 0.0,\n",
       " 0.0,\n",
       " 0.0,\n",
       " 0.0,\n",
       " 0.0,\n",
       " 0.0,\n",
       " 0.0,\n",
       " 0.0,\n",
       " 0.0,\n",
       " 0.0,\n",
       " 0.0,\n",
       " 0.0,\n",
       " 0.0,\n",
       " 0.0,\n",
       " 0.0,\n",
       " 0.0,\n",
       " 0.0,\n",
       " 0.0,\n",
       " 0.0,\n",
       " 0.0,\n",
       " 0.0,\n",
       " 0.0,\n",
       " 0.0,\n",
       " 0.0,\n",
       " 0.0,\n",
       " 0.0,\n",
       " 0.0,\n",
       " 0.0,\n",
       " 0.0,\n",
       " 0.0,\n",
       " 0.0,\n",
       " 0.0,\n",
       " 0.0,\n",
       " 0.0,\n",
       " 0.0,\n",
       " 0.0]"
      ]
     },
     "execution_count": 19,
     "metadata": {},
     "output_type": "execute_result"
    }
   ],
   "source": [
    "Z_ls"
   ]
  },
  {
   "cell_type": "code",
   "execution_count": 60,
   "id": "d3f5b19e",
   "metadata": {},
   "outputs": [
    {
     "data": {
      "text/plain": [
       "1.2512254229616574e-207"
      ]
     },
     "execution_count": 60,
     "metadata": {},
     "output_type": "execute_result"
    }
   ],
   "source": [
    "from scipy.integrate import nquad\n",
    "\n",
    "def char_aux(p,q,A,B):\n",
    "    term1 = np.exp(1j*p*A-1j*q*B) - np.exp(-1j*q*A+1j*p*B)\n",
    "    term2 = np.exp(-1j*p*(A+B)) * (np.exp(-1j*q*A)-np.exp(-1j*q*B))\n",
    "    term3 = np.exp(1j*q*(A+B)) * (np.exp(1j*p*B)-np.exp(1j*p*A))\n",
    "    return -1j * (term1 + term2 + term3)\n",
    "\n",
    "def plaq(beta,A,B):\n",
    "    vp1, vp2, vp3 = np.exp(1j*A), np.exp(1j*B), np.exp(1j*(-A-B))\n",
    "    return np.exp(2*beta*np.real((vp1+vp2+vp3-3)))\n",
    "\n",
    "def s_(A,B):\n",
    "    return 8*np.sin(0.5*(A-B))*np.sin(0.5*(A+2*B))*np.sin(0.5*(2*A+B))\n",
    "\n",
    "def coeff(beta,p,q):\n",
    "    return nquad(lambda A,B:plaq(beta,A,B) * np.conj(char_aux(p,q,A,B)) * s_(A,B)/ (24*np.pi**2),[[-np.pi,np.pi],[-np.pi,np.pi]])[0]\n",
    "\n",
    "#nquad(lambda A,B:plaq(1,A,B),[[-np.pi,np.pi],[-np.pi,np.pi]])\n",
    "\n",
    "coeff_vec = np.vectorize(coeff)\n",
    "\n",
    "def Z(beta):\n",
    "    s = 0\n",
    "    p = np.arange(1,3)\n",
    "    q = np.arange(1,3)\n",
    "    P,Q = np.meshgrid(p,q)\n",
    "    d = 1/2 * P * Q * (P + Q)\n",
    "    arr = (1/d * coeff_vec(beta,P,Q))**(N**2)\n",
    "    return np.real(np.sum(arr))"
   ]
  },
  {
   "cell_type": "code",
   "execution_count": 61,
   "id": "ba06b39b",
   "metadata": {},
   "outputs": [
    {
     "name": "stderr",
     "output_type": "stream",
     "text": [
      "100%|█████████████████████████████████████████| 100/100 [02:37<00:00,  1.58s/it]\n"
     ]
    }
   ],
   "source": [
    "betas = np.linspace(0,10,100)\n",
    "\n",
    "Z_ls = []\n",
    "\n",
    "my_list = range(len(betas))\n",
    "\n",
    "for item in tqdm(my_list):\n",
    "    \n",
    "    Z_ls.append(Z(betas[item]))"
   ]
  },
  {
   "cell_type": "code",
   "execution_count": 62,
   "id": "3830bcb4",
   "metadata": {},
   "outputs": [
    {
     "name": "stderr",
     "output_type": "stream",
     "text": [
      "/var/folders/h7/_hqqwrk517z46v06lptyq1580000gn/T/ipykernel_21924/2782762616.py:1: RuntimeWarning: divide by zero encountered in log\n",
      "  action = - betas[1::] * np.diff(np.log(Z_ls))/np.diff(betas)\n"
     ]
    },
    {
     "data": {
      "text/plain": [
       "[<matplotlib.lines.Line2D at 0x7fe4344ff970>]"
      ]
     },
     "execution_count": 62,
     "metadata": {},
     "output_type": "execute_result"
    },
    {
     "data": {
      "image/png": "[encoded data removed]",
      "text/plain": [
       "<Figure size 640x480 with 1 Axes>"
      ]
     },
     "metadata": {},
     "output_type": "display_data"
    }
   ],
   "source": [
    "action = - betas[1::] * np.diff(np.log(Z_ls))/np.diff(betas)\n",
    "plt.plot(betas[1::],action)"
   ]
  },
  {
   "cell_type": "code",
   "execution_count": 63,
   "id": "1debc827",
   "metadata": {},
   "outputs": [
    {
     "data": {
      "text/plain": [
       "[1.0,\n",
       " 1.371242952150073e-26,\n",
       " 1.773037629859478e-51,\n",
       " 2.6164513977895604e-75,\n",
       " 5.195493118367051e-98,\n",
       " 1.5723846271592594e-119,\n",
       " 7.8012477252525305e-140,\n",
       " 6.437894558589258e-159,\n",
       " 8.454642811823144e-177,\n",
       " 1.6036950765732086e-193,\n",
       " 3.824287092252314e-209,\n",
       " 9.698630483376253e-224,\n",
       " 2.1792424675768012e-237,\n",
       " 3.600691150181945e-250,\n",
       " 3.64845952379969e-262,\n",
       " 1.9108966922774486e-273,\n",
       " 4.4210441562223244e-284,\n",
       " 3.919933994211506e-294,\n",
       " 1.1731181622946433e-303,\n",
       " 1.05860966845e-312,\n",
       " 2.61e-321,\n",
       " 0.0,\n",
       " 0.0,\n",
       " 0.0,\n",
       " 0.0,\n",
       " 0.0,\n",
       " 0.0,\n",
       " 0.0,\n",
       " 0.0,\n",
       " 0.0,\n",
       " 0.0,\n",
       " 0.0,\n",
       " 0.0,\n",
       " 0.0,\n",
       " 0.0,\n",
       " 0.0,\n",
       " 0.0,\n",
       " 0.0,\n",
       " 0.0,\n",
       " 0.0,\n",
       " 0.0,\n",
       " 0.0,\n",
       " 0.0,\n",
       " 0.0,\n",
       " 0.0,\n",
       " 0.0,\n",
       " 0.0,\n",
       " 0.0,\n",
       " 0.0,\n",
       " 0.0,\n",
       " 0.0,\n",
       " 0.0,\n",
       " 0.0,\n",
       " 0.0,\n",
       " 0.0,\n",
       " 0.0,\n",
       " 0.0,\n",
       " 0.0,\n",
       " 0.0,\n",
       " 0.0,\n",
       " 0.0,\n",
       " 0.0,\n",
       " 0.0,\n",
       " 0.0,\n",
       " 0.0,\n",
       " 0.0,\n",
       " 0.0,\n",
       " 0.0,\n",
       " 0.0,\n",
       " 0.0,\n",
       " 0.0,\n",
       " 0.0,\n",
       " 0.0,\n",
       " 0.0,\n",
       " 0.0,\n",
       " 0.0,\n",
       " 0.0,\n",
       " 0.0,\n",
       " 0.0,\n",
       " 0.0,\n",
       " 0.0,\n",
       " 0.0,\n",
       " 0.0,\n",
       " 0.0,\n",
       " 0.0,\n",
       " 0.0,\n",
       " 0.0,\n",
       " 0.0,\n",
       " 0.0,\n",
       " 0.0,\n",
       " 0.0,\n",
       " 0.0,\n",
       " 0.0,\n",
       " 0.0,\n",
       " 0.0,\n",
       " 0.0,\n",
       " 0.0,\n",
       " 0.0,\n",
       " 0.0,\n",
       " 0.0]"
      ]
     },
     "execution_count": 63,
     "metadata": {},
     "output_type": "execute_result"
    }
   ],
   "source": [
    "Z_ls"
   ]
  },
  {
   "cell_type": "code",
   "execution_count": 64,
   "id": "dc58fd28",
   "metadata": {},
   "outputs": [
    {
     "name": "stderr",
     "output_type": "stream",
     "text": [
      "/var/folders/h7/_hqqwrk517z46v06lptyq1580000gn/T/ipykernel_21924/322528484.py:1: RuntimeWarning: divide by zero encountered in log\n",
      "  np.log(1e-400)\n"
     ]
    },
    {
     "data": {
      "text/plain": [
       "-inf"
      ]
     },
     "execution_count": 64,
     "metadata": {},
     "output_type": "execute_result"
    }
   ],
   "source": []
  },
  {
   "cell_type": "code",
   "execution_count": 98,
   "id": "bb349b1a",
   "metadata": {},
   "outputs": [
    {
     "data": {
      "text/plain": [
       "-430.11344364595624"
      ]
     },
     "execution_count": 98,
     "metadata": {},
     "output_type": "execute_result"
    }
   ],
   "source": [
    "def calculate_action(lattice,beta):\n",
    " \n",
    "    # Calculate the plaquette term in the action\n",
    "    i_shifted = np.roll(lattice, shift=-1, axis=0)\n",
    "    j_shifted = np.roll(lattice, shift=-1, axis=1)\n",
    "\n",
    "    plaq = np.matmul(lattice[..., 0, :, :], j_shifted[..., 1, :, :])\n",
    "    plaq = np.matmul(plaq, np.conj(i_shifted[..., 0, :, :]).transpose(0, 1, 3, 2))\n",
    "    plaq = np.matmul(plaq, np.conj(lattice[..., 1, :, :]).transpose(0, 1, 3, 2))\n",
    "\n",
    "    action_plaquette = np.real(3 - np.trace(plaq, axis1=-2, axis2=-1)).sum()\n",
    "\n",
    "    # Calculate the total action\n",
    "    return 2 * beta * action_plaquette\n",
    "\n",
    "arr = np.random.uniform(low=0,high=1,size=(N,N,2,3,3))\n",
    "\n",
    "calculate_action(arr,1)"
   ]
  },
  {
   "cell_type": "code",
   "execution_count": null,
   "id": "b03b90b8",
   "metadata": {},
   "outputs": [],
   "source": [
    "import numpy as np\n",
    "from scipy.stats import unitary_group\n",
    "\n",
    "def metropolis(beta,n_iterations=100000):\n",
    "    \n",
    "    # Initialize lattice with random SU(2) matrices\n",
    "    x = unitary_group.rvs(3, size=10)\n",
    "\n",
    "    det_sign = np.sign(np.linalg.det(x))\n",
    "    sign_correction = (det_sign < 0) * 1j + (det_sign > 0)\n",
    "    arr = x * sign_correction[:, np.newaxis, np.newaxis]\n",
    "    lattice = np.zeros((N,N,2,3,3),dtype=complex)\n",
    "    lattice[:,:] = arr[:,np.newaxis]\n",
    "   \n",
    "    # Apply periodic boundary conditions\n",
    "    lattice[0, :, :] = lattice[N-1, :, :]\n",
    "    lattice[:,0, :] = lattice[:, N-1, :]            \n",
    "\n",
    "    action_before = calculate_action(lattice,beta)\n",
    "    energia = []\n",
    "        \n",
    "    for iteration in range(n_iterations):\n",
    "    \n",
    "        # Choose a random lattice site and direction\n",
    "        i = np.random.randint(N)\n",
    "        j = np.random.randint(N)\n",
    "        k = np.random.randint(2)\n",
    "\n",
    "        # Generate a random SU(2) matrix\n",
    "        su3_matrix = X()\n",
    "        \n",
    "        new_lattice = lattice.copy()\n",
    "\n",
    "        # Update the gauge field at the chosen site\n",
    "        new_lattice[i, j, k] = np.matmul(su3_matrix, new_lattice[i, j, k])\n",
    "        \n",
    "        # Apply periodic boundary conditions\n",
    "        new_lattice[0, :, :] = new_lattice[N-1, :, :]\n",
    "        new_lattice[:,0, :] = new_lattice[:, N-1, :]\n",
    "\n",
    "        # Calculate the action after the update\n",
    "        action_after = calculate_action(new_lattice,beta)\n",
    "\n",
    "        # Decide whether to accept or reject the update\n",
    "        if np.random.random() < np.exp(action_before - action_after):\n",
    "            # Accept the update\n",
    "            lattice = new_lattice\n",
    "            action_before = action_after\n",
    "            \n",
    "        if iteration >= 9*n_iterations/10:\n",
    "            energia.append(action_before)\n",
    "            \n",
    "    return np.array(energia).mean()"
   ]
  },
  {
   "cell_type": "code",
   "execution_count": 111,
   "id": "3f932649",
   "metadata": {},
   "outputs": [
    {
     "data": {
      "text/plain": [
       "(0.9999999999999997+5.551115123125781e-17j)"
      ]
     },
     "execution_count": 111,
     "metadata": {},
     "output_type": "execute_result"
    }
   ],
   "source": [
    "def Phi(a,b,c,d):\n",
    "    x = a + 1j * b\n",
    "    y = c + 1j * d\n",
    "    return np.array([[x,-np.conj(y)],[y,np.conj(x)]])\n",
    "    \n",
    "def X():\n",
    "    t1 = np.random.uniform(low=0,high=np.pi,size=3)\n",
    "    t2 = np.random.uniform(low=0,high=np.pi,size=3)\n",
    "    t3 = np.random.uniform(low=0,high=2*np.pi,size=3)\n",
    "    y1 = np.cos(t1)\n",
    "    y2 = np.sin(t1) * np.cos(t2)\n",
    "    y3 = np.sin(t1) * np.sin(t2) * np.cos(t3)\n",
    "    y4 = np.sin(t1) * np.sin(t2) * np.sin(t3)\n",
    "    arr1 = Phi(y1[0],y2[0],y3[0],y4[0])\n",
    "    arr2 = Phi(y1[1],y2[1],y3[1],y4[1])\n",
    "    arr3 = Phi(y1[2],y2[2],y3[2],y4[2])\n",
    "    R, S, T = np.zeros((3,3),dtype=complex), np.zeros((3,3),dtype=complex), np.zeros((3,3),dtype=complex)\n",
    "    R[:2,:2] = arr1[:]\n",
    "    R[2,2] = 1\n",
    "    S = np.array([[arr2[0,0], 0, arr2[0,1]],[0, 1, 0],[arr2[1,0], 0, arr2[1,1]]])\n",
    "    T[0,0] =1\n",
    "    T[1:3,1:3] = arr3[:]\n",
    "    X = np.zeros((3,3),dtype=complex)\n",
    "    X = np.matmul(R,np.matmul(S,T))\n",
    "    return X\n",
    "\n",
    "arr = X()\n",
    "np.linalg.det(arr)"
   ]
  },
  {
   "cell_type": "code",
   "execution_count": 119,
   "id": "3064989a",
   "metadata": {},
   "outputs": [
    {
     "data": {
      "text/plain": [
       "array([[ 1.00000000e+00+0.00000000e+00j, -8.32667268e-17+0.00000000e+00j,\n",
       "        -5.55111512e-17+6.93889390e-18j],\n",
       "       [-8.32667268e-17+0.00000000e+00j,  1.00000000e+00+0.00000000e+00j,\n",
       "         5.55111512e-17-8.32667268e-17j],\n",
       "       [-5.55111512e-17-6.93889390e-18j,  5.55111512e-17+8.32667268e-17j,\n",
       "         1.00000000e+00+0.00000000e+00j]])"
      ]
     },
     "execution_count": 119,
     "metadata": {},
     "output_type": "execute_result"
    }
   ],
   "source": [
    "import numpy as np\n",
    "from scipy.stats import unitary_group\n",
    "\n",
    "x = unitary_group.rvs(3, size=10)\n",
    "det_sign = np.sign(np.linalg.det(x))\n",
    "sign_correction = (det_sign < 0) * 1j + (det_sign > 0)\n",
    "arr = x * sign_correction[:, np.newaxis, np.newaxis]\n",
    "lattice = np.zeros((N,N,2,3,3),dtype=complex)\n",
    "lattice[:,:] = arr[:,np.newaxis]\n",
    "\n",
    "arr = lattice[0,0,0]\n",
    "arr.dot(np.conj(arr.T))"
   ]
  },
  {
   "cell_type": "code",
   "execution_count": 120,
   "id": "fced2cf9",
   "metadata": {},
   "outputs": [
    {
     "ename": "KeyboardInterrupt",
     "evalue": "",
     "output_type": "error",
     "traceback": [
      "\u001b[0;31m---------------------------------------------------------------------------\u001b[0m",
      "\u001b[0;31mKeyboardInterrupt\u001b[0m                         Traceback (most recent call last)",
      "Cell \u001b[0;32mIn[120], line 55\u001b[0m\n\u001b[1;32m     51\u001b[0m             energia\u001b[38;5;241m.\u001b[39mappend(action_before)\n\u001b[1;32m     53\u001b[0m     \u001b[38;5;28;01mreturn\u001b[39;00m np\u001b[38;5;241m.\u001b[39marray(energia)\u001b[38;5;241m.\u001b[39mmean()\n\u001b[0;32m---> 55\u001b[0m \u001b[43mmetropolis\u001b[49m\u001b[43m(\u001b[49m\u001b[38;5;241;43m1\u001b[39;49m\u001b[43m)\u001b[49m\n",
      "Cell \u001b[0;32mIn[120], line 42\u001b[0m, in \u001b[0;36mmetropolis\u001b[0;34m(beta, n_iterations)\u001b[0m\n\u001b[1;32m     39\u001b[0m new_lattice[:,\u001b[38;5;241m0\u001b[39m, :] \u001b[38;5;241m=\u001b[39m new_lattice[:, N\u001b[38;5;241m-\u001b[39m\u001b[38;5;241m1\u001b[39m, :]\n\u001b[1;32m     41\u001b[0m \u001b[38;5;66;03m# Calculate the action after the update\u001b[39;00m\n\u001b[0;32m---> 42\u001b[0m action_after \u001b[38;5;241m=\u001b[39m \u001b[43mcalculate_action\u001b[49m\u001b[43m(\u001b[49m\u001b[43mnew_lattice\u001b[49m\u001b[43m,\u001b[49m\u001b[43mbeta\u001b[49m\u001b[43m)\u001b[49m\n\u001b[1;32m     44\u001b[0m \u001b[38;5;66;03m# Decide whether to accept or reject the update\u001b[39;00m\n\u001b[1;32m     45\u001b[0m \u001b[38;5;28;01mif\u001b[39;00m np\u001b[38;5;241m.\u001b[39mrandom\u001b[38;5;241m.\u001b[39mrandom() \u001b[38;5;241m<\u001b[39m np\u001b[38;5;241m.\u001b[39mexp(action_before \u001b[38;5;241m-\u001b[39m action_after):\n\u001b[1;32m     46\u001b[0m     \u001b[38;5;66;03m# Accept the update\u001b[39;00m\n",
      "Cell \u001b[0;32mIn[98], line 8\u001b[0m, in \u001b[0;36mcalculate_action\u001b[0;34m(lattice, beta)\u001b[0m\n\u001b[1;32m      5\u001b[0m j_shifted \u001b[38;5;241m=\u001b[39m np\u001b[38;5;241m.\u001b[39mroll(lattice, shift\u001b[38;5;241m=\u001b[39m\u001b[38;5;241m-\u001b[39m\u001b[38;5;241m1\u001b[39m, axis\u001b[38;5;241m=\u001b[39m\u001b[38;5;241m1\u001b[39m)\n\u001b[1;32m      7\u001b[0m plaq \u001b[38;5;241m=\u001b[39m np\u001b[38;5;241m.\u001b[39mmatmul(lattice[\u001b[38;5;241m.\u001b[39m\u001b[38;5;241m.\u001b[39m\u001b[38;5;241m.\u001b[39m, \u001b[38;5;241m0\u001b[39m, :, :], j_shifted[\u001b[38;5;241m.\u001b[39m\u001b[38;5;241m.\u001b[39m\u001b[38;5;241m.\u001b[39m, \u001b[38;5;241m1\u001b[39m, :, :])\n\u001b[0;32m----> 8\u001b[0m plaq \u001b[38;5;241m=\u001b[39m \u001b[43mnp\u001b[49m\u001b[38;5;241;43m.\u001b[39;49m\u001b[43mmatmul\u001b[49m\u001b[43m(\u001b[49m\u001b[43mplaq\u001b[49m\u001b[43m,\u001b[49m\u001b[43m \u001b[49m\u001b[43mnp\u001b[49m\u001b[38;5;241;43m.\u001b[39;49m\u001b[43mconj\u001b[49m\u001b[43m(\u001b[49m\u001b[43mi_shifted\u001b[49m\u001b[43m[\u001b[49m\u001b[38;5;241;43m.\u001b[39;49m\u001b[38;5;241;43m.\u001b[39;49m\u001b[38;5;241;43m.\u001b[39;49m\u001b[43m,\u001b[49m\u001b[43m \u001b[49m\u001b[38;5;241;43m0\u001b[39;49m\u001b[43m,\u001b[49m\u001b[43m \u001b[49m\u001b[43m:\u001b[49m\u001b[43m,\u001b[49m\u001b[43m \u001b[49m\u001b[43m:\u001b[49m\u001b[43m]\u001b[49m\u001b[43m)\u001b[49m\u001b[38;5;241;43m.\u001b[39;49m\u001b[43mtranspose\u001b[49m\u001b[43m(\u001b[49m\u001b[38;5;241;43m0\u001b[39;49m\u001b[43m,\u001b[49m\u001b[43m \u001b[49m\u001b[38;5;241;43m1\u001b[39;49m\u001b[43m,\u001b[49m\u001b[43m \u001b[49m\u001b[38;5;241;43m3\u001b[39;49m\u001b[43m,\u001b[49m\u001b[43m \u001b[49m\u001b[38;5;241;43m2\u001b[39;49m\u001b[43m)\u001b[49m\u001b[43m)\u001b[49m\n\u001b[1;32m      9\u001b[0m plaq \u001b[38;5;241m=\u001b[39m np\u001b[38;5;241m.\u001b[39mmatmul(plaq, np\u001b[38;5;241m.\u001b[39mconj(lattice[\u001b[38;5;241m.\u001b[39m\u001b[38;5;241m.\u001b[39m\u001b[38;5;241m.\u001b[39m, \u001b[38;5;241m1\u001b[39m, :, :])\u001b[38;5;241m.\u001b[39mtranspose(\u001b[38;5;241m0\u001b[39m, \u001b[38;5;241m1\u001b[39m, \u001b[38;5;241m3\u001b[39m, \u001b[38;5;241m2\u001b[39m))\n\u001b[1;32m     11\u001b[0m action_plaquette \u001b[38;5;241m=\u001b[39m np\u001b[38;5;241m.\u001b[39mreal(\u001b[38;5;241m3\u001b[39m \u001b[38;5;241m-\u001b[39m np\u001b[38;5;241m.\u001b[39mtrace(plaq, axis1\u001b[38;5;241m=\u001b[39m\u001b[38;5;241m-\u001b[39m\u001b[38;5;241m2\u001b[39m, axis2\u001b[38;5;241m=\u001b[39m\u001b[38;5;241m-\u001b[39m\u001b[38;5;241m1\u001b[39m))\u001b[38;5;241m.\u001b[39msum()\n",
      "\u001b[0;31mKeyboardInterrupt\u001b[0m: "
     ]
    }
   ],
   "source": [
    "import numpy as np\n",
    "from scipy.stats import unitary_group\n",
    "\n",
    "def metropolis(beta,n_iterations=100000):\n",
    "    \n",
    "    # Initialize lattice with random SU(2) matrices\n",
    "    x = unitary_group.rvs(3, size=10)\n",
    "\n",
    "    det_sign = np.sign(np.linalg.det(x))\n",
    "    sign_correction = (det_sign < 0) * 1j + (det_sign > 0)\n",
    "    arr = x * sign_correction[:, np.newaxis, np.newaxis]\n",
    "    lattice = np.zeros((N,N,2,3,3),dtype=complex)\n",
    "    lattice[:,:] = arr[:,np.newaxis]\n",
    "   \n",
    "    # Apply periodic boundary conditions\n",
    "    lattice[0, :, :] = lattice[N-1, :, :]\n",
    "    lattice[:,0, :] = lattice[:, N-1, :]            \n",
    "\n",
    "    action_before = calculate_action(lattice,beta)\n",
    "    energia = []\n",
    "        \n",
    "    for iteration in range(n_iterations):\n",
    "    \n",
    "        # Choose a random lattice site and direction\n",
    "        i = np.random.randint(N)\n",
    "        j = np.random.randint(N)\n",
    "        k = np.random.randint(2)\n",
    "\n",
    "        # Generate a random SU(2) matrix\n",
    "        su3_matrix = X()\n",
    "        \n",
    "        new_lattice = lattice.copy()\n",
    "\n",
    "        # Update the gauge field at the chosen site\n",
    "        new_lattice[i, j, k] = np.matmul(su3_matrix, new_lattice[i, j, k])\n",
    "        \n",
    "        # Apply periodic boundary conditions\n",
    "        new_lattice[0, :, :] = new_lattice[N-1, :, :]\n",
    "        new_lattice[:,0, :] = new_lattice[:, N-1, :]\n",
    "\n",
    "        # Calculate the action after the update\n",
    "        action_after = calculate_action(new_lattice,beta)\n",
    "\n",
    "        # Decide whether to accept or reject the update\n",
    "        if np.random.random() < np.exp(action_before - action_after):\n",
    "            # Accept the update\n",
    "            lattice = new_lattice\n",
    "            action_before = action_after\n",
    "            \n",
    "        if iteration >= 9*n_iterations/10:\n",
    "            energia.append(action_before)\n",
    "            \n",
    "    return np.array(energia).mean()\n",
    "\n",
    "metropolis(1)"
   ]
  },
  {
   "cell_type": "code",
   "execution_count": null,
   "id": "1ae83b30",
   "metadata": {},
   "outputs": [],
   "source": []
  }
 ],
 "metadata": {
  "kernelspec": {
   "display_name": "Python 3 (ipykernel)",
   "language": "python",
   "name": "python3"
  },
  "language_info": {
   "codemirror_mode": {
    "name": "ipython",
    "version": 3
   },
   "file_extension": ".py",
   "mimetype": "text/x-python",
   "name": "python",
   "nbconvert_exporter": "python",
   "pygments_lexer": "ipython3",
   "version": "3.10.11"
  }
 },
 "nbformat": 4,
 "nbformat_minor": 5
}
